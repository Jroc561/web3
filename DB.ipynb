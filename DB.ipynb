{
 "cells": [
  {
   "cell_type": "code",
   "execution_count": 28,
   "metadata": {},
   "outputs": [],
   "source": [
    "from pymongo import MongoClient\n",
    "from pymongo.errors import OperationFailure\n",
    "from os import getenv\n",
    "from dotenv import load_dotenv\n",
    "from datetime import datetime\n",
    "import ssl\n",
    "from bson.json_util import loads as bson_loads, dumps as bson_dumps "
   ]
  },
  {
   "cell_type": "code",
   "execution_count": 29,
   "metadata": {},
   "outputs": [],
   "source": [
    "import etherscan\n",
    "import pandas as pd\n",
    "import plotly.express as px\n",
    "import plotly.graph_objects as go\n",
    "import matplotlib.pyplot as plt # importing matplotlib\n",
    "import numpy as np # importing numpy\n",
    "import schedule\n",
    "import time\n",
    "import json\n",
    "import requests\n",
    "\n",
    "from dotenv import load_dotenv\n",
    "from datetime import datetime\n",
    "from web3 import Web3\n",
    "from os import getenv\n",
    "import os\n",
    "from tqdm import tqdm\n",
    "from decimal import Decimal"
   ]
  },
  {
   "cell_type": "code",
   "execution_count": 30,
   "metadata": {},
   "outputs": [
    {
     "name": "stdout",
     "output_type": "stream",
     "text": [
      "['spirits', 'test', 'admin', 'local']\n"
     ]
    }
   ],
   "source": [
    "load_dotenv()\n",
    "\n",
    "# signing on to the MongoDB and viewing currents DBs\n",
    "client = MongoClient(getenv('MONGO'), ssl_cert_reqs=ssl.CERT_NONE)\n",
    "print(client.list_database_names())  # output: ['admin', 'local']"
   ]
  },
  {
   "cell_type": "code",
   "execution_count": 32,
   "metadata": {},
   "outputs": [
    {
     "data": {
      "text/plain": "True"
     },
     "execution_count": 32,
     "metadata": {},
     "output_type": "execute_result"
    }
   ],
   "source": [
    "es = etherscan.Client(api_key=getenv('ETHERSCAN'))\n",
    "w3 = Web3(Web3.HTTPProvider(getenv('INFURA')))\n",
    "\n",
    "w3.isConnected()"
   ]
  },
  {
   "cell_type": "code",
   "execution_count": 33,
   "metadata": {},
   "outputs": [],
   "source": [
    "# The DB we will be working on \"test\"\n",
    "db = client.test\n",
    "\n",
    "# initializing a collection for DBs\n",
    "collection = db.col"
   ]
  },
  {
   "cell_type": "code",
   "execution_count": 5,
   "metadata": {},
   "outputs": [
    {
     "name": "stdout",
     "output_type": "stream",
     "text": [
      "608470b71d8e3f463993b76e\n",
      "['spirits', 'test', 'admin', 'local']\n",
      "['col']\n"
     ]
    }
   ],
   "source": [
    "user = {'name': 'Halil', 'lang': 'Python'}\n",
    "insert_user = collection.insert_one(user)\n",
    "\n",
    "print(insert_user.inserted_id)  # output: 5ed01eecd5e7afe4b2f2f7c9\n",
    "print(client.list_database_names())  # output: ['test', 'admin', 'local']\n",
    "print(db.list_collection_names())  # output: ['col']"
   ]
  },
  {
   "cell_type": "code",
   "execution_count": null,
   "metadata": {},
   "outputs": [],
   "source": [
    "block = w3.eth.getBlock('latest')\n",
    "block.transactions"
   ]
  },
  {
   "cell_type": "code",
   "execution_count": 44,
   "metadata": {},
   "outputs": [
    {
     "name": "stdout",
     "output_type": "stream",
     "text": [
      "6085017e1d8e3f463993b772\n"
     ]
    }
   ],
   "source": [
    "# initializing a collection for DBs\n",
    "transactions = db.ether\n",
    "\n",
    "# content\n",
    "post = {'difficulty': block.difficulty, \n",
    "        'extraData': block.extraData, \n",
    "        'hash': block.hash,\n",
    "        'transactions': block.transactions,\n",
    "        'post_date': datetime.now()}\n",
    "\n",
    "# inseting content into collection\n",
    "insert_post = transactions.insert_one(post)\n",
    "\n",
    "# id of insert\n",
    "print(insert_post.inserted_id)  "
   ]
  },
  {
   "cell_type": "code",
   "execution_count": 46,
   "metadata": {},
   "outputs": [
    {
     "data": {
      "text/plain": "AttributeDict({'blockHash': HexBytes('0xc190a41f539d01561b987161ee34f4cbf77112e3f5631974abb97db6bbdedd53'),\n 'blockNumber': 12292666,\n 'from': '0x81085713E6dB7b9511b85CE5ed33C790980BFA36',\n 'gas': 203534,\n 'gasPrice': 140000000000,\n 'hash': HexBytes('0x7a04337a420fede66c1038c3288b250c8e1ffd3fd6de46a3ec44a09150d803b8'),\n 'input': '0xa0712d6800000000000000000000000000000000000000000000000dcc988cf91e06d800',\n 'nonce': 9,\n 'r': HexBytes('0x2440d9482e3b6a7225300f2361057bb6b59c7cdfcb334546ac1e16738e5cb0f9'),\n 's': HexBytes('0x23ce84bbdcc4f8fa1102bfaedad9c616a72c22626c7608b6b64b1c3b101634bd'),\n 'to': '0x5d3a536E4D6DbD6114cc1Ead35777bAB948E3643',\n 'transactionIndex': 312,\n 'type': '0x0',\n 'v': 38,\n 'value': 0})"
     },
     "execution_count": 46,
     "metadata": {},
     "output_type": "execute_result"
    }
   ],
   "source": [
    "transaction = '0x7a04337a420fede66c1038c3288b250c8e1ffd3fd6de46a3ec44a09150d803b8'\n",
    "\n",
    "contract = w3.eth.getTransaction(transaction)\n",
    "contract"
   ]
  },
  {
   "cell_type": "code",
   "execution_count": 48,
   "metadata": {},
   "outputs": [
    {
     "name": "stdout",
     "output_type": "stream",
     "text": [
      "608502e01d8e3f463993b773\n"
     ]
    }
   ],
   "source": [
    "# initializing a collection for DBs\n",
    "transactions = db.transations\n",
    "\n",
    "# content\n",
    "post = {'blockHash': contract.blockHash, \n",
    "        'blockNumber': contract.blockNumber, \n",
    "        'gas': contract.gas,\n",
    "        'gasPrice': contract.gasPrice,\n",
    "        'hash': contract.hash,\n",
    "        'input': contract.input,\n",
    "        'post_date': datetime.now()}\n",
    "\n",
    "# inseting content into collection\n",
    "insert_post = transactions.insert_one(post)\n",
    "\n",
    "# id of insert\n",
    "print(insert_post.inserted_id) "
   ]
  },
  {
   "cell_type": "code",
   "execution_count": 4,
   "metadata": {},
   "outputs": [
    {
     "name": "stdout",
     "output_type": "stream",
     "text": [
      "test database was not created.\n"
     ]
    }
   ],
   "source": [
    "if \"test\" in client.list_database_names():\n",
    "    print(\"You successfully created test database.\")\n",
    "else:\n",
    "    print(\"test database was not created.\")"
   ]
  }
 ],
 "metadata": {
  "kernelspec": {
   "display_name": "Python 3.9.1 64-bit",
   "language": "python",
   "name": "python39164bit1403dc9b93394d8f9ff214505f33f4c3"
  },
  "language_info": {
   "codemirror_mode": {
    "name": "ipython",
    "version": 3
   },
   "file_extension": ".py",
   "mimetype": "text/x-python",
   "name": "python",
   "nbconvert_exporter": "python",
   "pygments_lexer": "ipython3",
   "version": "3.9.1"
  },
  "orig_nbformat": 2
 },
 "nbformat": 4,
 "nbformat_minor": 2
}