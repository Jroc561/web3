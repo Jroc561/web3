{
 "cells": [
  {
   "cell_type": "code",
   "execution_count": 55,
   "metadata": {},
   "outputs": [],
   "source": [
    "import etherscan\n",
    "import pandas as pd\n",
    "import plotly.express as px\n",
    "import plotly.graph_objects as go\n",
    "import matplotlib.pyplot as plt # importing matplotlib\n",
    "import numpy as np # importing numpy\n",
    "import time\n",
    "\n",
    "from dotenv import load_dotenv\n",
    "from datetime import datetime\n",
    "from web3 import Web3\n",
    "from os import getenv\n",
    "from tqdm import tqdm\n",
    "from decimal import Decimal"
   ]
  },
  {
   "cell_type": "code",
   "execution_count": 2,
   "metadata": {},
   "outputs": [
    {
     "data": {
      "text/plain": "True"
     },
     "execution_count": 2,
     "metadata": {},
     "output_type": "execute_result"
    }
   ],
   "source": [
    "load_dotenv()\n",
    "\n",
    "\n",
    "es = etherscan.Client(api_key=getenv('ETHERSCAN'))\n",
    "w3 = Web3(Web3.HTTPProvider(getenv('INFURA')))\n",
    "\n",
    "w3.isConnected()"
   ]
  },
  {
   "cell_type": "code",
   "execution_count": null,
   "metadata": {},
   "outputs": [],
   "source": [
    "# address book\n",
    "carlisle = '0xd791427e372186E90637caF1D6D6AFb054BeeC7A'\n",
    "rarible = '0xcd4EC7b66fbc029C116BA9Ffb3e59351c20B5B06'\n",
    "opensea = '0x7Be8076f4EA4A4AD08075C2508e481d6C946D12b'\n",
    "foundation = '0xcDA72070E455bb31C7690a170224Ce43623d0B6f'\n",
    "superrare = '0x41A322b28D0fF354040e2CbC676F0320d8c8850d'\n",
    "knownorigin = '0x848b0EA643e5a352D78e2c0c12A2dD8c96feC639'"
   ]
  },
  {
   "cell_type": "code",
   "execution_count": 78,
   "metadata": {},
   "outputs": [],
   "source": [
    "def get_balance(wallet):\n",
    "    wei = w3.eth.get_balance(wallet)\n",
    "    return w3.fromWei(wei, 'ether')"
   ]
  },
  {
   "cell_type": "code",
   "execution_count": 79,
   "metadata": {},
   "outputs": [
    {
     "data": {
      "text/plain": "Decimal('0.182801517568856907')"
     },
     "execution_count": 79,
     "metadata": {},
     "output_type": "execute_result"
    }
   ],
   "source": [
    "get_balance(carlisle)"
   ]
  },
  {
   "cell_type": "code",
   "execution_count": 75,
   "metadata": {},
   "outputs": [],
   "source": [
    "def mp_transactions(address):\n",
    "    columns = ['timestamp', 'block_number', 'from', 'to', 'input', 'hash', 'value', 'gas', \n",
    "                'gas_price', 'gas_used', 'nonce', 'confirmations', 'is_error', 'tx_receipt_status', \n",
    "                'transaction_index', 'cumulative_gas_used', 'block_hash']\n",
    "\n",
    "    transactions = []\n",
    "\n",
    "    latest_block = w3.eth.get_block('latest')\n",
    "    end_block = latest_block['number']\n",
    "    start_block = end_block - (6500 * 5)\n",
    "\n",
    "    for l in tqdm(es.get_transactions_by_address(address, start_block=start_block, end_block=end_block, limit=9999)):\n",
    "        time.sleep(.2)\n",
    "        transactions.append(l)\n",
    "\n",
    "    df = pd.DataFrame(transactions, columns=columns)\n",
    "    df['timestamp'] = df['timestamp'].apply(datetime.fromtimestamp)\n",
    "    df = df[df['value'] != 0]\n",
    "    df = df.reset_index(drop=True)\n",
    "    df['value'] = [w3.fromWei(x, 'ether') for x in df['value']]\n",
    "    return df"
   ]
  },
  {
   "cell_type": "code",
   "execution_count": 80,
   "metadata": {},
   "outputs": [
    {
     "name": "stderr",
     "output_type": "stream",
     "text": [
      " 45%|████▌     | 3385/7470 [10:00:05<12:04:11, 10.64s/it]\n"
     ]
    },
    {
     "ename": "KeyboardInterrupt",
     "evalue": "",
     "output_type": "error",
     "traceback": [
      "\u001b[0;31m---------------------------------------------------------------------------\u001b[0m",
      "\u001b[0;31mKeyboardInterrupt\u001b[0m                         Traceback (most recent call last)",
      "\u001b[0;32m<ipython-input-80-80787fd3b51e>\u001b[0m in \u001b[0;36m<module>\u001b[0;34m\u001b[0m\n\u001b[0;32m----> 1\u001b[0;31m \u001b[0mfoundation_df\u001b[0m \u001b[0;34m=\u001b[0m \u001b[0mmp_transactions\u001b[0m\u001b[0;34m(\u001b[0m\u001b[0mfoundation\u001b[0m\u001b[0;34m)\u001b[0m\u001b[0;34m\u001b[0m\u001b[0;34m\u001b[0m\u001b[0m\n\u001b[0m",
      "\u001b[0;32m<ipython-input-75-81aea1f2c9c2>\u001b[0m in \u001b[0;36mmp_transactions\u001b[0;34m(address)\u001b[0m\n\u001b[1;32m     11\u001b[0m \u001b[0;34m\u001b[0m\u001b[0m\n\u001b[1;32m     12\u001b[0m     \u001b[0;32mfor\u001b[0m \u001b[0ml\u001b[0m \u001b[0;32min\u001b[0m \u001b[0mtqdm\u001b[0m\u001b[0;34m(\u001b[0m\u001b[0mes\u001b[0m\u001b[0;34m.\u001b[0m\u001b[0mget_transactions_by_address\u001b[0m\u001b[0;34m(\u001b[0m\u001b[0maddress\u001b[0m\u001b[0;34m,\u001b[0m \u001b[0mstart_block\u001b[0m\u001b[0;34m=\u001b[0m\u001b[0mstart_block\u001b[0m\u001b[0;34m,\u001b[0m \u001b[0mend_block\u001b[0m\u001b[0;34m=\u001b[0m\u001b[0mend_block\u001b[0m\u001b[0;34m,\u001b[0m \u001b[0mlimit\u001b[0m\u001b[0;34m=\u001b[0m\u001b[0;36m9999\u001b[0m\u001b[0;34m)\u001b[0m\u001b[0;34m)\u001b[0m\u001b[0;34m:\u001b[0m\u001b[0;34m\u001b[0m\u001b[0;34m\u001b[0m\u001b[0m\n\u001b[0;32m---> 13\u001b[0;31m         \u001b[0mtime\u001b[0m\u001b[0;34m.\u001b[0m\u001b[0msleep\u001b[0m\u001b[0;34m(\u001b[0m\u001b[0;36m.2\u001b[0m\u001b[0;34m)\u001b[0m\u001b[0;34m\u001b[0m\u001b[0;34m\u001b[0m\u001b[0m\n\u001b[0m\u001b[1;32m     14\u001b[0m         \u001b[0mtransactions\u001b[0m\u001b[0;34m.\u001b[0m\u001b[0mappend\u001b[0m\u001b[0;34m(\u001b[0m\u001b[0ml\u001b[0m\u001b[0;34m)\u001b[0m\u001b[0;34m\u001b[0m\u001b[0;34m\u001b[0m\u001b[0m\n\u001b[1;32m     15\u001b[0m \u001b[0;34m\u001b[0m\u001b[0m\n",
      "\u001b[0;31mKeyboardInterrupt\u001b[0m: "
     ]
    }
   ],
   "source": [
    "foundation_df = mp_transactions(foundation)"
   ]
  },
  {
   "cell_type": "code",
   "execution_count": 77,
   "metadata": {},
   "outputs": [
    {
     "data": {
      "text/html": "<div>\n<style scoped>\n    .dataframe tbody tr th:only-of-type {\n        vertical-align: middle;\n    }\n\n    .dataframe tbody tr th {\n        vertical-align: top;\n    }\n\n    .dataframe thead th {\n        text-align: right;\n    }\n</style>\n<table border=\"1\" class=\"dataframe\">\n  <thead>\n    <tr style=\"text-align: right;\">\n      <th></th>\n      <th>timestamp</th>\n      <th>block_number</th>\n      <th>from</th>\n      <th>to</th>\n      <th>input</th>\n      <th>hash</th>\n      <th>value</th>\n      <th>gas</th>\n      <th>gas_price</th>\n      <th>gas_used</th>\n      <th>nonce</th>\n      <th>confirmations</th>\n      <th>is_error</th>\n      <th>tx_receipt_status</th>\n      <th>transaction_index</th>\n      <th>cumulative_gas_used</th>\n      <th>block_hash</th>\n    </tr>\n  </thead>\n  <tbody>\n    <tr>\n      <th>0</th>\n      <td>2021-03-25 22:45:16</td>\n      <td>12112240</td>\n      <td>0xcc6c1d21e8474b3578e69eb036c712ab08ffdfbb</td>\n      <td>0x41a322b28d0ff354040e2cbc676f0320d8c8850d</td>\n      <td>0x454a2ab3000000000000000000000000000000000000...</td>\n      <td>0x10ccb19cabad8b68ab43714806ad8bc49b6fd5dcc339...</td>\n      <td>50</td>\n      <td>102793</td>\n      <td>130000000000</td>\n      <td>68529</td>\n      <td>277</td>\n      <td>32278</td>\n      <td>False</td>\n      <td>True</td>\n      <td>139</td>\n      <td>10469759</td>\n      <td>0xcdda7e394ca01f974c79d48713c750323cbc74d8c685...</td>\n    </tr>\n    <tr>\n      <th>1</th>\n      <td>2021-03-25 23:19:14</td>\n      <td>12112402</td>\n      <td>0xcc6c1d21e8474b3578e69eb036c712ab08ffdfbb</td>\n      <td>0x41a322b28d0ff354040e2cbc676f0320d8c8850d</td>\n      <td>0x454a2ab3000000000000000000000000000000000000...</td>\n      <td>0x6b9fee965a5615ecfff7c49c60a9ad52342e19015330...</td>\n      <td>10</td>\n      <td>102811</td>\n      <td>113000000000</td>\n      <td>68541</td>\n      <td>279</td>\n      <td>32116</td>\n      <td>False</td>\n      <td>True</td>\n      <td>122</td>\n      <td>9067380</td>\n      <td>0xef9999662d8197607e588b6cc333f596e92b8a13c98f...</td>\n    </tr>\n    <tr>\n      <th>2</th>\n      <td>2021-03-25 23:27:04</td>\n      <td>12112433</td>\n      <td>0xcc6c1d21e8474b3578e69eb036c712ab08ffdfbb</td>\n      <td>0x41a322b28d0ff354040e2cbc676f0320d8c8850d</td>\n      <td>0x454a2ab3000000000000000000000000000000000000...</td>\n      <td>0x31efdede4ddf67cff991aaf06f02da32136f3ac9d8fa...</td>\n      <td>4.3</td>\n      <td>102811</td>\n      <td>110000000000</td>\n      <td>68541</td>\n      <td>280</td>\n      <td>32085</td>\n      <td>False</td>\n      <td>True</td>\n      <td>244</td>\n      <td>12391437</td>\n      <td>0x4f4f2366d5b248db8811b75a9351167e109a974f93f5...</td>\n    </tr>\n    <tr>\n      <th>3</th>\n      <td>2021-03-26 00:26:37</td>\n      <td>12112729</td>\n      <td>0xf2b9ec5724dc97362a53907c0b4cc0aa72369e63</td>\n      <td>0x41a322b28d0ff354040e2cbc676f0320d8c8850d</td>\n      <td>0xd96a094a000000000000000000000000000000000000...</td>\n      <td>0xf0df6bb4765e1656c44504b472cd83ccc84bea7d3bfb...</td>\n      <td>0.764</td>\n      <td>341173</td>\n      <td>92000001459</td>\n      <td>25969</td>\n      <td>81</td>\n      <td>31789</td>\n      <td>True</td>\n      <td>False</td>\n      <td>131</td>\n      <td>9725658</td>\n      <td>0x56d9860b9b07d3c8f97af3280eed79f10d76b27e2d1a...</td>\n    </tr>\n    <tr>\n      <th>4</th>\n      <td>2021-03-26 01:43:22</td>\n      <td>12113079</td>\n      <td>0x57561dd1bb1887d9734a854f82d0d6cd8c988ff6</td>\n      <td>0x41a322b28d0ff354040e2cbc676f0320d8c8850d</td>\n      <td>0xd96a094a000000000000000000000000000000000000...</td>\n      <td>0x383fd423acfdbecbd6e3deb064b7f66948c242bdf1ea...</td>\n      <td>1.2</td>\n      <td>231394</td>\n      <td>93000001459</td>\n      <td>120063</td>\n      <td>162</td>\n      <td>31439</td>\n      <td>False</td>\n      <td>True</td>\n      <td>130</td>\n      <td>11719425</td>\n      <td>0xf1758a0e7884915395a0bf31db32f1a822716af9082d...</td>\n    </tr>\n    <tr>\n      <th>...</th>\n      <td>...</td>\n      <td>...</td>\n      <td>...</td>\n      <td>...</td>\n      <td>...</td>\n      <td>...</td>\n      <td>...</td>\n      <td>...</td>\n      <td>...</td>\n      <td>...</td>\n      <td>...</td>\n      <td>...</td>\n      <td>...</td>\n      <td>...</td>\n      <td>...</td>\n      <td>...</td>\n      <td>...</td>\n    </tr>\n    <tr>\n      <th>144</th>\n      <td>2021-03-30 18:12:29</td>\n      <td>12143574</td>\n      <td>0x0b8f4c4e7626a91460dac057eb43e0de59d5b44f</td>\n      <td>0x41a322b28d0ff354040e2cbc676f0320d8c8850d</td>\n      <td>0xd96a094a000000000000000000000000000000000000...</td>\n      <td>0x94c83acb757bcd82a679583843351d2a63b8137af12f...</td>\n      <td>2</td>\n      <td>225076</td>\n      <td>113000000000</td>\n      <td>111651</td>\n      <td>115</td>\n      <td>944</td>\n      <td>False</td>\n      <td>True</td>\n      <td>129</td>\n      <td>11117265</td>\n      <td>0x7e790ea14dd27b805c5316686d2dce9a9c594863bb99...</td>\n    </tr>\n    <tr>\n      <th>145</th>\n      <td>2021-03-30 20:55:31</td>\n      <td>12144287</td>\n      <td>0x6d938cbe86b4763691f702577d4046f656acb3c8</td>\n      <td>0x41a322b28d0ff354040e2cbc676f0320d8c8850d</td>\n      <td>0x454a2ab3000000000000000000000000000000000000...</td>\n      <td>0xcce682b990f076c948ce9f79bd9a6141fb4a988e8180...</td>\n      <td>0.3</td>\n      <td>102811</td>\n      <td>135000001347</td>\n      <td>68541</td>\n      <td>788</td>\n      <td>231</td>\n      <td>False</td>\n      <td>True</td>\n      <td>88</td>\n      <td>8360700</td>\n      <td>0xe499773aa4ca2f5a26d59c427180d2bf4094e7668103...</td>\n    </tr>\n    <tr>\n      <th>146</th>\n      <td>2021-03-30 20:59:43</td>\n      <td>12144301</td>\n      <td>0x6d938cbe86b4763691f702577d4046f656acb3c8</td>\n      <td>0x41a322b28d0ff354040e2cbc676f0320d8c8850d</td>\n      <td>0x454a2ab3000000000000000000000000000000000000...</td>\n      <td>0x66c3c62abf94d29a05b1a8346a9bdbae1ba28694993c...</td>\n      <td>0.3</td>\n      <td>102811</td>\n      <td>139000000000</td>\n      <td>68541</td>\n      <td>789</td>\n      <td>217</td>\n      <td>False</td>\n      <td>True</td>\n      <td>102</td>\n      <td>6900966</td>\n      <td>0x78e431f30a4e197822bd99064c8117019e47193230aa...</td>\n    </tr>\n    <tr>\n      <th>147</th>\n      <td>2021-03-30 21:08:39</td>\n      <td>12144336</td>\n      <td>0x6d938cbe86b4763691f702577d4046f656acb3c8</td>\n      <td>0x41a322b28d0ff354040e2cbc676f0320d8c8850d</td>\n      <td>0x454a2ab3000000000000000000000000000000000000...</td>\n      <td>0xa305408f60f7971ff0d39cb06158c1930e6c35ecd740...</td>\n      <td>0.3</td>\n      <td>102811</td>\n      <td>139000001459</td>\n      <td>68541</td>\n      <td>790</td>\n      <td>182</td>\n      <td>False</td>\n      <td>True</td>\n      <td>143</td>\n      <td>8387314</td>\n      <td>0x528da2126e8b94b8d8c2080cfa7f8ca3ce3e5ff65663...</td>\n    </tr>\n    <tr>\n      <th>148</th>\n      <td>2021-03-30 21:33:22</td>\n      <td>12144464</td>\n      <td>0x22689680aec5e1b57250e72c22d9fe5037a70b68</td>\n      <td>0x41a322b28d0ff354040e2cbc676f0320d8c8850d</td>\n      <td>0x454a2ab3000000000000000000000000000000000000...</td>\n      <td>0x8849f7340c59d69f9ef844361251370f783bf0f1ebbd...</td>\n      <td>0.45</td>\n      <td>69153</td>\n      <td>120000000000</td>\n      <td>46102</td>\n      <td>13</td>\n      <td>54</td>\n      <td>False</td>\n      <td>True</td>\n      <td>157</td>\n      <td>7617715</td>\n      <td>0xa90fb65778649afdc0c2089d39628f26b41579ddab82...</td>\n    </tr>\n  </tbody>\n</table>\n<p>149 rows × 17 columns</p>\n</div>",
      "text/plain": "              timestamp  block_number  \\\n0   2021-03-25 22:45:16      12112240   \n1   2021-03-25 23:19:14      12112402   \n2   2021-03-25 23:27:04      12112433   \n3   2021-03-26 00:26:37      12112729   \n4   2021-03-26 01:43:22      12113079   \n..                  ...           ...   \n144 2021-03-30 18:12:29      12143574   \n145 2021-03-30 20:55:31      12144287   \n146 2021-03-30 20:59:43      12144301   \n147 2021-03-30 21:08:39      12144336   \n148 2021-03-30 21:33:22      12144464   \n\n                                           from  \\\n0    0xcc6c1d21e8474b3578e69eb036c712ab08ffdfbb   \n1    0xcc6c1d21e8474b3578e69eb036c712ab08ffdfbb   \n2    0xcc6c1d21e8474b3578e69eb036c712ab08ffdfbb   \n3    0xf2b9ec5724dc97362a53907c0b4cc0aa72369e63   \n4    0x57561dd1bb1887d9734a854f82d0d6cd8c988ff6   \n..                                          ...   \n144  0x0b8f4c4e7626a91460dac057eb43e0de59d5b44f   \n145  0x6d938cbe86b4763691f702577d4046f656acb3c8   \n146  0x6d938cbe86b4763691f702577d4046f656acb3c8   \n147  0x6d938cbe86b4763691f702577d4046f656acb3c8   \n148  0x22689680aec5e1b57250e72c22d9fe5037a70b68   \n\n                                             to  \\\n0    0x41a322b28d0ff354040e2cbc676f0320d8c8850d   \n1    0x41a322b28d0ff354040e2cbc676f0320d8c8850d   \n2    0x41a322b28d0ff354040e2cbc676f0320d8c8850d   \n3    0x41a322b28d0ff354040e2cbc676f0320d8c8850d   \n4    0x41a322b28d0ff354040e2cbc676f0320d8c8850d   \n..                                          ...   \n144  0x41a322b28d0ff354040e2cbc676f0320d8c8850d   \n145  0x41a322b28d0ff354040e2cbc676f0320d8c8850d   \n146  0x41a322b28d0ff354040e2cbc676f0320d8c8850d   \n147  0x41a322b28d0ff354040e2cbc676f0320d8c8850d   \n148  0x41a322b28d0ff354040e2cbc676f0320d8c8850d   \n\n                                                 input  \\\n0    0x454a2ab3000000000000000000000000000000000000...   \n1    0x454a2ab3000000000000000000000000000000000000...   \n2    0x454a2ab3000000000000000000000000000000000000...   \n3    0xd96a094a000000000000000000000000000000000000...   \n4    0xd96a094a000000000000000000000000000000000000...   \n..                                                 ...   \n144  0xd96a094a000000000000000000000000000000000000...   \n145  0x454a2ab3000000000000000000000000000000000000...   \n146  0x454a2ab3000000000000000000000000000000000000...   \n147  0x454a2ab3000000000000000000000000000000000000...   \n148  0x454a2ab3000000000000000000000000000000000000...   \n\n                                                  hash  value     gas  \\\n0    0x10ccb19cabad8b68ab43714806ad8bc49b6fd5dcc339...     50  102793   \n1    0x6b9fee965a5615ecfff7c49c60a9ad52342e19015330...     10  102811   \n2    0x31efdede4ddf67cff991aaf06f02da32136f3ac9d8fa...    4.3  102811   \n3    0xf0df6bb4765e1656c44504b472cd83ccc84bea7d3bfb...  0.764  341173   \n4    0x383fd423acfdbecbd6e3deb064b7f66948c242bdf1ea...    1.2  231394   \n..                                                 ...    ...     ...   \n144  0x94c83acb757bcd82a679583843351d2a63b8137af12f...      2  225076   \n145  0xcce682b990f076c948ce9f79bd9a6141fb4a988e8180...    0.3  102811   \n146  0x66c3c62abf94d29a05b1a8346a9bdbae1ba28694993c...    0.3  102811   \n147  0xa305408f60f7971ff0d39cb06158c1930e6c35ecd740...    0.3  102811   \n148  0x8849f7340c59d69f9ef844361251370f783bf0f1ebbd...   0.45   69153   \n\n        gas_price  gas_used  nonce  confirmations  is_error  \\\n0    130000000000     68529    277          32278     False   \n1    113000000000     68541    279          32116     False   \n2    110000000000     68541    280          32085     False   \n3     92000001459     25969     81          31789      True   \n4     93000001459    120063    162          31439     False   \n..            ...       ...    ...            ...       ...   \n144  113000000000    111651    115            944     False   \n145  135000001347     68541    788            231     False   \n146  139000000000     68541    789            217     False   \n147  139000001459     68541    790            182     False   \n148  120000000000     46102     13             54     False   \n\n     tx_receipt_status  transaction_index  cumulative_gas_used  \\\n0                 True                139             10469759   \n1                 True                122              9067380   \n2                 True                244             12391437   \n3                False                131              9725658   \n4                 True                130             11719425   \n..                 ...                ...                  ...   \n144               True                129             11117265   \n145               True                 88              8360700   \n146               True                102              6900966   \n147               True                143              8387314   \n148               True                157              7617715   \n\n                                            block_hash  \n0    0xcdda7e394ca01f974c79d48713c750323cbc74d8c685...  \n1    0xef9999662d8197607e588b6cc333f596e92b8a13c98f...  \n2    0x4f4f2366d5b248db8811b75a9351167e109a974f93f5...  \n3    0x56d9860b9b07d3c8f97af3280eed79f10d76b27e2d1a...  \n4    0xf1758a0e7884915395a0bf31db32f1a822716af9082d...  \n..                                                 ...  \n144  0x7e790ea14dd27b805c5316686d2dce9a9c594863bb99...  \n145  0xe499773aa4ca2f5a26d59c427180d2bf4094e7668103...  \n146  0x78e431f30a4e197822bd99064c8117019e47193230aa...  \n147  0x528da2126e8b94b8d8c2080cfa7f8ca3ce3e5ff65663...  \n148  0xa90fb65778649afdc0c2089d39628f26b41579ddab82...  \n\n[149 rows x 17 columns]"
     },
     "execution_count": 77,
     "metadata": {},
     "output_type": "execute_result"
    }
   ],
   "source": [
    "superrare_df"
   ]
  },
  {
   "cell_type": "code",
   "execution_count": 74,
   "metadata": {},
   "outputs": [
    {
     "data": {
      "image/png": "[encoded data removed]",
      "text/plain": "<Figure size 1512x1008 with 1 Axes>"
     },
     "metadata": {
      "transient": {}
     },
     "output_type": "display_data"
    }
   ],
   "source": [
    "plt.style.use(\"fast\")\n",
    "plt.figure(figsize=(21,14), facecolor=('#fff9f4')) # Make it 14x7 inch\n",
    "\n",
    "x = superrare_df[\"value\"] # normal distribution\n",
    "n, bins, patches = plt.hist(x, bins=80, facecolor='#2ab0ff', edgecolor='#e0e0e0', linewidth=0.5, alpha=0.7)\n",
    "n = n.astype('int') # it MUST be integer\n",
    "\n",
    "# Good old loop. Choose colormap of your taste\n",
    "for i in range(len(patches)):\n",
    "    patches[i].set_facecolor(plt.cm.viridis(n[i]/max(n)))\n",
    "\n",
    "# Add title and labels with custom font sizes\n",
    "plt.title('', fontsize=12)\n",
    "plt.xlabel('', fontsize=8)\n",
    "plt.ylabel('', fontsize=8)\n",
    "plt.grid(b=None)\n",
    "plt.savefig('foo.png')\n",
    "plt.show();"
   ]
  }
 ],
 "metadata": {
  "kernelspec": {
   "display_name": "Python 3.9.1 64-bit",
   "language": "python",
   "name": "python39164bit1403dc9b93394d8f9ff214505f33f4c3"
  },
  "language_info": {
   "codemirror_mode": {
    "name": "ipython",
    "version": 3
   },
   "file_extension": ".py",
   "mimetype": "text/x-python",
   "name": "python",
   "nbconvert_exporter": "python",
   "pygments_lexer": "ipython3",
   "version": "3.9.1"
  },
  "orig_nbformat": 2
 },
 "nbformat": 4,
 "nbformat_minor": 2
}