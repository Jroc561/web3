{
 "cells": [
  {
   "cell_type": "markdown",
   "metadata": {},
   "source": [
    "Playing with web3.py"
   ]
  },
  {
   "cell_type": "markdown",
   "metadata": {},
   "source": [
    "Install Depedencies"
   ]
  },
  {
   "cell_type": "code",
   "execution_count": 7,
   "metadata": {},
   "outputs": [],
   "source": [
    "import etherscan\n",
    "import pandas as pd\n",
    "import plotly.express as px\n",
    "import plotly.graph_objects as go\n",
    "import matplotlib.pyplot as plt # importing matplotlib\n",
    "import numpy as np # importing numpy\n",
    "import schedule\n",
    "import time\n",
    "import json\n",
    "import requests\n",
    "\n",
    "from dotenv import load_dotenv\n",
    "from datetime import datetime\n",
    "from web3 import Web3\n",
    "from os import getenv\n",
    "import os\n",
    "from tqdm import tqdm\n",
    "from decimal import Decimal"
   ]
  },
  {
   "cell_type": "markdown",
   "metadata": {},
   "source": [
    "Connecting to web3 using Infura"
   ]
  },
  {
   "cell_type": "code",
   "execution_count": 9,
   "metadata": {},
   "outputs": [
    {
     "data": {
      "text/plain": "True"
     },
     "execution_count": 9,
     "metadata": {},
     "output_type": "execute_result"
    }
   ],
   "source": [
    "load_dotenv()\n",
    "\n",
    "\n",
    "es = etherscan.Client(api_key=getenv('ETHERSCAN'))\n",
    "w3 = Web3(Web3.HTTPProvider(getenv('INFURA')))\n",
    "\n",
    "w3.isConnected()"
   ]
  },
  {
   "cell_type": "code",
   "execution_count": 10,
   "metadata": {},
   "outputs": [],
   "source": [
    "# address book\n",
    "carlisle = '0xd791427e372186E90637caF1D6D6AFb054BeeC7A'\n",
    "rarible_contract = '0xcd4EC7b66fbc029C116BA9Ffb3e59351c20B5B06'\n",
    "opensea = '0x7Be8076f4EA4A4AD08075C2508e481d6C946D12b'\n",
    "foundation = '0xcDA72070E455bb31C7690a170224Ce43623d0B6f'\n",
    "superrare = '0x41A322b28D0fF354040e2CbC676F0320d8c8850d'\n",
    "knownorigin = '0x848b0EA643e5a352D78e2c0c12A2dD8c96feC639'"
   ]
  },
  {
   "cell_type": "code",
   "execution_count": 11,
   "metadata": {},
   "outputs": [
    {
     "data": {
      "text/plain": "Decimal('0.050000416012272068')"
     },
     "execution_count": 11,
     "metadata": {},
     "output_type": "execute_result"
    }
   ],
   "source": [
    "def get_balance(wallet):\n",
    "    wei = w3.eth.getBalance(wallet)\n",
    "    return w3.fromWei(wei, 'ether')\n",
    "\n",
    "get_balance(carlisle)"
   ]
  },
  {
   "cell_type": "code",
   "execution_count": null,
   "metadata": {},
   "outputs": [],
   "source": [
    "block = w3.eth.getBlock('latest')\n",
    "block"
   ]
  },
  {
   "cell_type": "code",
   "execution_count": 17,
   "metadata": {},
   "outputs": [
    {
     "data": {
      "text/plain": "AttributeDict({'blockHash': HexBytes('0xc190a41f539d01561b987161ee34f4cbf77112e3f5631974abb97db6bbdedd53'),\n 'blockNumber': 12292666,\n 'from': '0x81085713E6dB7b9511b85CE5ed33C790980BFA36',\n 'gas': 203534,\n 'gasPrice': 140000000000,\n 'hash': HexBytes('0x7a04337a420fede66c1038c3288b250c8e1ffd3fd6de46a3ec44a09150d803b8'),\n 'input': '0xa0712d6800000000000000000000000000000000000000000000000dcc988cf91e06d800',\n 'nonce': 9,\n 'r': HexBytes('0x2440d9482e3b6a7225300f2361057bb6b59c7cdfcb334546ac1e16738e5cb0f9'),\n 's': HexBytes('0x23ce84bbdcc4f8fa1102bfaedad9c616a72c22626c7608b6b64b1c3b101634bd'),\n 'to': '0x5d3a536E4D6DbD6114cc1Ead35777bAB948E3643',\n 'transactionIndex': 312,\n 'type': '0x0',\n 'v': 38,\n 'value': 0})"
     },
     "execution_count": 17,
     "metadata": {},
     "output_type": "execute_result"
    }
   ],
   "source": [
    "transaction = '0x7a04337a420fede66c1038c3288b250c8e1ffd3fd6de46a3ec44a09150d803b8'\n",
    "\n",
    "contract = w3.eth.getTransaction(transaction)\n",
    "contract"
   ]
  },
  {
   "cell_type": "code",
   "execution_count": 8,
   "metadata": {},
   "outputs": [],
   "source": [
    "rarible = pd.read_csv('rarible.csv', index_col=0)"
   ]
  },
  {
   "cell_type": "code",
   "execution_count": 9,
   "metadata": {},
   "outputs": [],
   "source": [
    "def mp_transactions(address):\n",
    "    columns = ['timestamp', 'block_number', 'from', 'to', 'input', 'hash', 'value', 'gas', \n",
    "                'gas_price', 'gas_used', 'nonce', 'confirmations', 'is_error', 'tx_receipt_status', \n",
    "                'transaction_index', 'cumulative_gas_used', 'block_hash']\n",
    "\n",
    "    transactions = []\n",
    "\n",
    "    block = w3.eth.getBlock('latest')\n",
    "\n",
    "    if rarible['block_number'].empty:\n",
    "        start_block = block.number - 100\n",
    "    else:\n",
    "        start_block = rarible['block_number'].iloc[-1]\n",
    "\n",
    "    for l in tqdm(es.get_transactions_by_address(address, start_block=start_block, limit=9999)):\n",
    "        time.sleep(.2)\n",
    "        transactions.append(l)\n",
    "\n",
    "    df = pd.DataFrame(transactions, columns=columns)\n",
    "    df['timestamp'] = df['timestamp'].apply(datetime.fromtimestamp)\n",
    "    df = df[df['value'] != 0]\n",
    "    df = df[df['is_error'] != True]\n",
    "    df['value'] = [w3.fromWei(x, 'ether') for x in df['value']]\n",
    "    df = df.reset_index(drop=True)\n",
    "    if not os.path.isfile('rarible.csv'):\n",
    "        df.to_csv('rarible.csv', header='column_names', index=False)\n",
    "    else:\n",
    "        df.to_csv('rarible.csv', mode='a', header=False, index=False)\n",
    "    return df"
   ]
  },
  {
   "cell_type": "code",
   "execution_count": 10,
   "metadata": {},
   "outputs": [
    {
     "name": "stderr",
     "output_type": "stream",
     "text": [
      "100%|██████████| 23/23 [00:04<00:00,  4.87it/s]\n"
     ]
    },
    {
     "data": {
      "text/html": "<div>\n<style scoped>\n    .dataframe tbody tr th:only-of-type {\n        vertical-align: middle;\n    }\n\n    .dataframe tbody tr th {\n        vertical-align: top;\n    }\n\n    .dataframe thead th {\n        text-align: right;\n    }\n</style>\n<table border=\"1\" class=\"dataframe\">\n  <thead>\n    <tr style=\"text-align: right;\">\n      <th></th>\n      <th>timestamp</th>\n      <th>block_number</th>\n      <th>from</th>\n      <th>to</th>\n      <th>input</th>\n      <th>hash</th>\n      <th>value</th>\n      <th>gas</th>\n      <th>gas_price</th>\n      <th>gas_used</th>\n      <th>nonce</th>\n      <th>confirmations</th>\n      <th>is_error</th>\n      <th>tx_receipt_status</th>\n      <th>transaction_index</th>\n      <th>cumulative_gas_used</th>\n      <th>block_hash</th>\n    </tr>\n  </thead>\n  <tbody>\n    <tr>\n      <th>0</th>\n      <td>2021-04-24 13:53:59</td>\n      <td>12304673</td>\n      <td>0xfee85cc9d00f373a159fab2215308c2ae4ae1428</td>\n      <td>0xcd4ec7b66fbc029c116ba9ffb3e59351c20b5b06</td>\n      <td>0x9cec63920000000000000000000000000f75caa45db7...</td>\n      <td>0xa0296b5cea402ea3db668fadc9e95f422a456b32b15e...</td>\n      <td>0.046125</td>\n      <td>249739</td>\n      <td>53000000000</td>\n      <td>249739</td>\n      <td>15</td>\n      <td>95</td>\n      <td>False</td>\n      <td>True</td>\n      <td>85</td>\n      <td>12563333</td>\n      <td>0xa893b6370180e9e857c213a858d93a85fc5a5e5f3ea7...</td>\n    </tr>\n    <tr>\n      <th>1</th>\n      <td>2021-04-24 13:54:10</td>\n      <td>12304675</td>\n      <td>0xd6395c768b5008ef8779b6525d7d903603e15b5c</td>\n      <td>0xcd4ec7b66fbc029c116ba9ffb3e59351c20b5b06</td>\n      <td>0x9cec6392000000000000000000000000b1fa25350cd0...</td>\n      <td>0xca673379719b005f1229c68f2506fa36924142276927...</td>\n      <td>0.00189625</td>\n      <td>249751</td>\n      <td>53000000000</td>\n      <td>249751</td>\n      <td>3</td>\n      <td>93</td>\n      <td>False</td>\n      <td>True</td>\n      <td>73</td>\n      <td>5769993</td>\n      <td>0xc0a2f385eeb37803a691948dcb3d2897165699d144d1...</td>\n    </tr>\n    <tr>\n      <th>2</th>\n      <td>2021-04-24 13:54:10</td>\n      <td>12304675</td>\n      <td>0x36ed2d75a82e180e0871456b15c239b73b4ee9f4</td>\n      <td>0xcd4ec7b66fbc029c116ba9ffb3e59351c20b5b06</td>\n      <td>0x9cec639200000000000000000000000086ec43fd8aa1...</td>\n      <td>0xc464448801c57aafbf5b422f8d01f2e51846f380901a...</td>\n      <td>0.005125</td>\n      <td>266839</td>\n      <td>53000000000</td>\n      <td>266839</td>\n      <td>2519</td>\n      <td>93</td>\n      <td>False</td>\n      <td>True</td>\n      <td>103</td>\n      <td>8921681</td>\n      <td>0xc0a2f385eeb37803a691948dcb3d2897165699d144d1...</td>\n    </tr>\n    <tr>\n      <th>3</th>\n      <td>2021-04-24 13:54:23</td>\n      <td>12304677</td>\n      <td>0xf35fdc03030ac54840c4c2c4ac38dd873795cec2</td>\n      <td>0xcd4ec7b66fbc029c116ba9ffb3e59351c20b5b06</td>\n      <td>0x9cec63920000000000000000000000008d003a32c096...</td>\n      <td>0xf3d3804a5e4bb8e2d675d52ec86d8d8ed92609df52b7...</td>\n      <td>0.01025</td>\n      <td>249715</td>\n      <td>52000000000</td>\n      <td>249715</td>\n      <td>207</td>\n      <td>91</td>\n      <td>False</td>\n      <td>True</td>\n      <td>113</td>\n      <td>9614585</td>\n      <td>0x0c0f0434e20553a1a3faf06c0852408de79a9381fa45...</td>\n    </tr>\n    <tr>\n      <th>4</th>\n      <td>2021-04-24 13:58:26</td>\n      <td>12304695</td>\n      <td>0xe9d2dca3ce579e181255edd661f95a6fcaccd31d</td>\n      <td>0xcd4ec7b66fbc029c116ba9ffb3e59351c20b5b06</td>\n      <td>0x9cec6392000000000000000000000000d8e0ba725055...</td>\n      <td>0xc8f0e58b39bbfb2ed11b90902def83abe7243025f9f0...</td>\n      <td>0.1025</td>\n      <td>266827</td>\n      <td>61000000000</td>\n      <td>266827</td>\n      <td>0</td>\n      <td>73</td>\n      <td>False</td>\n      <td>True</td>\n      <td>207</td>\n      <td>13415321</td>\n      <td>0xb72b4836c4032d2d3e20c758f1adcbd411055410ede4...</td>\n    </tr>\n    <tr>\n      <th>5</th>\n      <td>2021-04-24 14:00:07</td>\n      <td>12304703</td>\n      <td>0x4d7d960252eedd37b7d73c6915da37ba8c99bb69</td>\n      <td>0xcd4ec7b66fbc029c116ba9ffb3e59351c20b5b06</td>\n      <td>0x9cec63920000000000000000000000008431f7c99d42...</td>\n      <td>0x7ef5957ed4ee5105a75b3a3ef178f026ccc268d8dcfa...</td>\n      <td>0.03075</td>\n      <td>249715</td>\n      <td>52000000000</td>\n      <td>249715</td>\n      <td>21</td>\n      <td>65</td>\n      <td>False</td>\n      <td>True</td>\n      <td>107</td>\n      <td>11081765</td>\n      <td>0xb132bef0d9ed4dfd75a57c8cc092369e4615f42f3df8...</td>\n    </tr>\n    <tr>\n      <th>6</th>\n      <td>2021-04-24 14:00:55</td>\n      <td>12304709</td>\n      <td>0x194618ff8547beb766d60071ef200f71df1f47e2</td>\n      <td>0xcd4ec7b66fbc029c116ba9ffb3e59351c20b5b06</td>\n      <td>0x9cec6392000000000000000000000000113f2cf739d7...</td>\n      <td>0xa23fce4a5ae712143141c3aaefc6dae9f9f9cb4b8c04...</td>\n      <td>0.01025</td>\n      <td>249739</td>\n      <td>52000000000</td>\n      <td>249739</td>\n      <td>4</td>\n      <td>59</td>\n      <td>False</td>\n      <td>True</td>\n      <td>117</td>\n      <td>11331699</td>\n      <td>0xa2dfea8e95198d14eb715c2b3ae387931e440eefbb3f...</td>\n    </tr>\n    <tr>\n      <th>7</th>\n      <td>2021-04-24 14:01:36</td>\n      <td>12304713</td>\n      <td>0x724b1c8a6bf6bf0681b3f8c312a3e61a9364de06</td>\n      <td>0xcd4ec7b66fbc029c116ba9ffb3e59351c20b5b06</td>\n      <td>0x9cec6392000000000000000000000000979f8cdc881f...</td>\n      <td>0xfc627f82f33792e94da77afb211be5de800db227bc8c...</td>\n      <td>0.15375</td>\n      <td>319474</td>\n      <td>52000000000</td>\n      <td>274474</td>\n      <td>20</td>\n      <td>55</td>\n      <td>False</td>\n      <td>True</td>\n      <td>43</td>\n      <td>9659843</td>\n      <td>0x05a8239b7c05a462af67f958cb9583b2522c53749b07...</td>\n    </tr>\n    <tr>\n      <th>8</th>\n      <td>2021-04-24 14:02:00</td>\n      <td>12304716</td>\n      <td>0x9854990358e62ff3f0a62d14e2e1df5e729c95f9</td>\n      <td>0xcd4ec7b66fbc029c116ba9ffb3e59351c20b5b06</td>\n      <td>0x9cec6392000000000000000000000000a12235589204...</td>\n      <td>0xa2ed0eee0f95aba32dadd43d30d3840e20d752c0c516...</td>\n      <td>0.15375</td>\n      <td>266803</td>\n      <td>120000000000</td>\n      <td>266803</td>\n      <td>184</td>\n      <td>52</td>\n      <td>False</td>\n      <td>True</td>\n      <td>59</td>\n      <td>3460950</td>\n      <td>0xfa2297452a079fd437a1baa5877dd3d29832535619cc...</td>\n    </tr>\n    <tr>\n      <th>9</th>\n      <td>2021-04-24 14:03:50</td>\n      <td>12304720</td>\n      <td>0xe6f3f846390f36efc840b9a3e6148c340d9d39e6</td>\n      <td>0xcd4ec7b66fbc029c116ba9ffb3e59351c20b5b06</td>\n      <td>0x9cec6392000000000000000000000000abe67ca4eefb...</td>\n      <td>0xe3df32e8918b27e625622d46c626d9b26ac12ea0c0a3...</td>\n      <td>0.5125</td>\n      <td>249739</td>\n      <td>67000000000</td>\n      <td>234739</td>\n      <td>371</td>\n      <td>48</td>\n      <td>False</td>\n      <td>True</td>\n      <td>264</td>\n      <td>11075445</td>\n      <td>0x58263cd86d61fa9b177852fd831ebc574316246c276f...</td>\n    </tr>\n    <tr>\n      <th>10</th>\n      <td>2021-04-24 14:05:18</td>\n      <td>12304727</td>\n      <td>0xa84ec76b0d783e68a844565f450c163097a182ea</td>\n      <td>0xcd4ec7b66fbc029c116ba9ffb3e59351c20b5b06</td>\n      <td>0x9cec6392000000000000000000000000a922df1e9044...</td>\n      <td>0x18428f6d1ae38bab968d6e811face9d8f8fe2138135a...</td>\n      <td>2.87</td>\n      <td>266839</td>\n      <td>52000000000</td>\n      <td>266839</td>\n      <td>0</td>\n      <td>41</td>\n      <td>False</td>\n      <td>True</td>\n      <td>194</td>\n      <td>12830192</td>\n      <td>0x0d95963f62d7ac881df5411811bcd6ad59c1c50dc2c9...</td>\n    </tr>\n    <tr>\n      <th>11</th>\n      <td>2021-04-24 14:05:50</td>\n      <td>12304731</td>\n      <td>0x001511d1cf99d0287f65945498d34e526cc40849</td>\n      <td>0xcd4ec7b66fbc029c116ba9ffb3e59351c20b5b06</td>\n      <td>0x9cec6392000000000000000000000000113f2cf739d7...</td>\n      <td>0x6a117b127936b6c024581e840e9f15fde7de7c01e1c7...</td>\n      <td>0.01025</td>\n      <td>249739</td>\n      <td>51000000000</td>\n      <td>249739</td>\n      <td>7</td>\n      <td>37</td>\n      <td>False</td>\n      <td>True</td>\n      <td>113</td>\n      <td>10741611</td>\n      <td>0x6eadc926675fe382ba91aef566b1c044947e773271a4...</td>\n    </tr>\n    <tr>\n      <th>12</th>\n      <td>2021-04-24 14:05:53</td>\n      <td>12304732</td>\n      <td>0x3b623b731016522e6c71d373b3bbd0f1f36cab02</td>\n      <td>0xcd4ec7b66fbc029c116ba9ffb3e59351c20b5b06</td>\n      <td>0x9cec6392000000000000000000000000a465ee4b2fb8...</td>\n      <td>0x192586cb3058a756c81f7d9131699f9259ab398967d8...</td>\n      <td>0.0615</td>\n      <td>266839</td>\n      <td>50634355246</td>\n      <td>266839</td>\n      <td>159</td>\n      <td>36</td>\n      <td>False</td>\n      <td>True</td>\n      <td>51</td>\n      <td>14705875</td>\n      <td>0x3bd625410ff57e28f34bcbea5aaef00e9dae5e79113d...</td>\n    </tr>\n    <tr>\n      <th>13</th>\n      <td>2021-04-24 14:07:26</td>\n      <td>12304740</td>\n      <td>0x27899282184a2c3a18b54766d6435fee75910a70</td>\n      <td>0xcd4ec7b66fbc029c116ba9ffb3e59351c20b5b06</td>\n      <td>0x9cec6392000000000000000000000000addf9f0ed23e...</td>\n      <td>0x7dff57327c37b4735d2ea3ae2b46f539ac1249faf7a4...</td>\n      <td>0.210125</td>\n      <td>266827</td>\n      <td>65000000000</td>\n      <td>266827</td>\n      <td>411</td>\n      <td>28</td>\n      <td>False</td>\n      <td>True</td>\n      <td>119</td>\n      <td>5091380</td>\n      <td>0x50f37bc0774e69fb0ab3b82c05b41fe787e0b409fe87...</td>\n    </tr>\n    <tr>\n      <th>14</th>\n      <td>2021-04-24 14:09:42</td>\n      <td>12304748</td>\n      <td>0x14725b66243d5a0060e010a85b5bace2a8533911</td>\n      <td>0xcd4ec7b66fbc029c116ba9ffb3e59351c20b5b06</td>\n      <td>0x9cec6392000000000000000000000000148b6418f88d...</td>\n      <td>0x97245eba4d766d4bf1751664be122935a49f4bce0cd8...</td>\n      <td>2.9725</td>\n      <td>266851</td>\n      <td>52000000000</td>\n      <td>266851</td>\n      <td>0</td>\n      <td>20</td>\n      <td>False</td>\n      <td>True</td>\n      <td>89</td>\n      <td>11275444</td>\n      <td>0x04f25b7ea69456851c0950f6097457cf8e3cb162f96b...</td>\n    </tr>\n    <tr>\n      <th>15</th>\n      <td>2021-04-24 14:11:37</td>\n      <td>12304757</td>\n      <td>0x001511d1cf99d0287f65945498d34e526cc40849</td>\n      <td>0xcd4ec7b66fbc029c116ba9ffb3e59351c20b5b06</td>\n      <td>0x9cec63920000000000000000000000001427459072e6...</td>\n      <td>0x6350dd366410ccf9937beeace56bd1f5128caa48cb0c...</td>\n      <td>0.025625</td>\n      <td>269339</td>\n      <td>52000000000</td>\n      <td>269339</td>\n      <td>8</td>\n      <td>11</td>\n      <td>False</td>\n      <td>True</td>\n      <td>41</td>\n      <td>2077689</td>\n      <td>0xf7e9042ef6f803f4fe6cdbe3bb1a2bfe6451a7e14da8...</td>\n    </tr>\n  </tbody>\n</table>\n</div>",
      "text/plain": "             timestamp  block_number  \\\n0  2021-04-24 13:53:59      12304673   \n1  2021-04-24 13:54:10      12304675   \n2  2021-04-24 13:54:10      12304675   \n3  2021-04-24 13:54:23      12304677   \n4  2021-04-24 13:58:26      12304695   \n5  2021-04-24 14:00:07      12304703   \n6  2021-04-24 14:00:55      12304709   \n7  2021-04-24 14:01:36      12304713   \n8  2021-04-24 14:02:00      12304716   \n9  2021-04-24 14:03:50      12304720   \n10 2021-04-24 14:05:18      12304727   \n11 2021-04-24 14:05:50      12304731   \n12 2021-04-24 14:05:53      12304732   \n13 2021-04-24 14:07:26      12304740   \n14 2021-04-24 14:09:42      12304748   \n15 2021-04-24 14:11:37      12304757   \n\n                                          from  \\\n0   0xfee85cc9d00f373a159fab2215308c2ae4ae1428   \n1   0xd6395c768b5008ef8779b6525d7d903603e15b5c   \n2   0x36ed2d75a82e180e0871456b15c239b73b4ee9f4   \n3   0xf35fdc03030ac54840c4c2c4ac38dd873795cec2   \n4   0xe9d2dca3ce579e181255edd661f95a6fcaccd31d   \n5   0x4d7d960252eedd37b7d73c6915da37ba8c99bb69   \n6   0x194618ff8547beb766d60071ef200f71df1f47e2   \n7   0x724b1c8a6bf6bf0681b3f8c312a3e61a9364de06   \n8   0x9854990358e62ff3f0a62d14e2e1df5e729c95f9   \n9   0xe6f3f846390f36efc840b9a3e6148c340d9d39e6   \n10  0xa84ec76b0d783e68a844565f450c163097a182ea   \n11  0x001511d1cf99d0287f65945498d34e526cc40849   \n12  0x3b623b731016522e6c71d373b3bbd0f1f36cab02   \n13  0x27899282184a2c3a18b54766d6435fee75910a70   \n14  0x14725b66243d5a0060e010a85b5bace2a8533911   \n15  0x001511d1cf99d0287f65945498d34e526cc40849   \n\n                                            to  \\\n0   0xcd4ec7b66fbc029c116ba9ffb3e59351c20b5b06   \n1   0xcd4ec7b66fbc029c116ba9ffb3e59351c20b5b06   \n2   0xcd4ec7b66fbc029c116ba9ffb3e59351c20b5b06   \n3   0xcd4ec7b66fbc029c116ba9ffb3e59351c20b5b06   \n4   0xcd4ec7b66fbc029c116ba9ffb3e59351c20b5b06   \n5   0xcd4ec7b66fbc029c116ba9ffb3e59351c20b5b06   \n6   0xcd4ec7b66fbc029c116ba9ffb3e59351c20b5b06   \n7   0xcd4ec7b66fbc029c116ba9ffb3e59351c20b5b06   \n8   0xcd4ec7b66fbc029c116ba9ffb3e59351c20b5b06   \n9   0xcd4ec7b66fbc029c116ba9ffb3e59351c20b5b06   \n10  0xcd4ec7b66fbc029c116ba9ffb3e59351c20b5b06   \n11  0xcd4ec7b66fbc029c116ba9ffb3e59351c20b5b06   \n12  0xcd4ec7b66fbc029c116ba9ffb3e59351c20b5b06   \n13  0xcd4ec7b66fbc029c116ba9ffb3e59351c20b5b06   \n14  0xcd4ec7b66fbc029c116ba9ffb3e59351c20b5b06   \n15  0xcd4ec7b66fbc029c116ba9ffb3e59351c20b5b06   \n\n                                                input  \\\n0   0x9cec63920000000000000000000000000f75caa45db7...   \n1   0x9cec6392000000000000000000000000b1fa25350cd0...   \n2   0x9cec639200000000000000000000000086ec43fd8aa1...   \n3   0x9cec63920000000000000000000000008d003a32c096...   \n4   0x9cec6392000000000000000000000000d8e0ba725055...   \n5   0x9cec63920000000000000000000000008431f7c99d42...   \n6   0x9cec6392000000000000000000000000113f2cf739d7...   \n7   0x9cec6392000000000000000000000000979f8cdc881f...   \n8   0x9cec6392000000000000000000000000a12235589204...   \n9   0x9cec6392000000000000000000000000abe67ca4eefb...   \n10  0x9cec6392000000000000000000000000a922df1e9044...   \n11  0x9cec6392000000000000000000000000113f2cf739d7...   \n12  0x9cec6392000000000000000000000000a465ee4b2fb8...   \n13  0x9cec6392000000000000000000000000addf9f0ed23e...   \n14  0x9cec6392000000000000000000000000148b6418f88d...   \n15  0x9cec63920000000000000000000000001427459072e6...   \n\n                                                 hash       value     gas  \\\n0   0xa0296b5cea402ea3db668fadc9e95f422a456b32b15e...    0.046125  249739   \n1   0xca673379719b005f1229c68f2506fa36924142276927...  0.00189625  249751   \n2   0xc464448801c57aafbf5b422f8d01f2e51846f380901a...    0.005125  266839   \n3   0xf3d3804a5e4bb8e2d675d52ec86d8d8ed92609df52b7...     0.01025  249715   \n4   0xc8f0e58b39bbfb2ed11b90902def83abe7243025f9f0...      0.1025  266827   \n5   0x7ef5957ed4ee5105a75b3a3ef178f026ccc268d8dcfa...     0.03075  249715   \n6   0xa23fce4a5ae712143141c3aaefc6dae9f9f9cb4b8c04...     0.01025  249739   \n7   0xfc627f82f33792e94da77afb211be5de800db227bc8c...     0.15375  319474   \n8   0xa2ed0eee0f95aba32dadd43d30d3840e20d752c0c516...     0.15375  266803   \n9   0xe3df32e8918b27e625622d46c626d9b26ac12ea0c0a3...      0.5125  249739   \n10  0x18428f6d1ae38bab968d6e811face9d8f8fe2138135a...        2.87  266839   \n11  0x6a117b127936b6c024581e840e9f15fde7de7c01e1c7...     0.01025  249739   \n12  0x192586cb3058a756c81f7d9131699f9259ab398967d8...      0.0615  266839   \n13  0x7dff57327c37b4735d2ea3ae2b46f539ac1249faf7a4...    0.210125  266827   \n14  0x97245eba4d766d4bf1751664be122935a49f4bce0cd8...      2.9725  266851   \n15  0x6350dd366410ccf9937beeace56bd1f5128caa48cb0c...    0.025625  269339   \n\n       gas_price  gas_used  nonce  confirmations  is_error  tx_receipt_status  \\\n0    53000000000    249739     15             95     False               True   \n1    53000000000    249751      3             93     False               True   \n2    53000000000    266839   2519             93     False               True   \n3    52000000000    249715    207             91     False               True   \n4    61000000000    266827      0             73     False               True   \n5    52000000000    249715     21             65     False               True   \n6    52000000000    249739      4             59     False               True   \n7    52000000000    274474     20             55     False               True   \n8   120000000000    266803    184             52     False               True   \n9    67000000000    234739    371             48     False               True   \n10   52000000000    266839      0             41     False               True   \n11   51000000000    249739      7             37     False               True   \n12   50634355246    266839    159             36     False               True   \n13   65000000000    266827    411             28     False               True   \n14   52000000000    266851      0             20     False               True   \n15   52000000000    269339      8             11     False               True   \n\n    transaction_index  cumulative_gas_used  \\\n0                  85             12563333   \n1                  73              5769993   \n2                 103              8921681   \n3                 113              9614585   \n4                 207             13415321   \n5                 107             11081765   \n6                 117             11331699   \n7                  43              9659843   \n8                  59              3460950   \n9                 264             11075445   \n10                194             12830192   \n11                113             10741611   \n12                 51             14705875   \n13                119              5091380   \n14                 89             11275444   \n15                 41              2077689   \n\n                                           block_hash  \n0   0xa893b6370180e9e857c213a858d93a85fc5a5e5f3ea7...  \n1   0xc0a2f385eeb37803a691948dcb3d2897165699d144d1...  \n2   0xc0a2f385eeb37803a691948dcb3d2897165699d144d1...  \n3   0x0c0f0434e20553a1a3faf06c0852408de79a9381fa45...  \n4   0xb72b4836c4032d2d3e20c758f1adcbd411055410ede4...  \n5   0xb132bef0d9ed4dfd75a57c8cc092369e4615f42f3df8...  \n6   0xa2dfea8e95198d14eb715c2b3ae387931e440eefbb3f...  \n7   0x05a8239b7c05a462af67f958cb9583b2522c53749b07...  \n8   0xfa2297452a079fd437a1baa5877dd3d29832535619cc...  \n9   0x58263cd86d61fa9b177852fd831ebc574316246c276f...  \n10  0x0d95963f62d7ac881df5411811bcd6ad59c1c50dc2c9...  \n11  0x6eadc926675fe382ba91aef566b1c044947e773271a4...  \n12  0x3bd625410ff57e28f34bcbea5aaef00e9dae5e79113d...  \n13  0x50f37bc0774e69fb0ab3b82c05b41fe787e0b409fe87...  \n14  0x04f25b7ea69456851c0950f6097457cf8e3cb162f96b...  \n15  0xf7e9042ef6f803f4fe6cdbe3bb1a2bfe6451a7e14da8...  "
     },
     "execution_count": 10,
     "metadata": {},
     "output_type": "execute_result"
    }
   ],
   "source": [
    "mp_transactions(rarible_contract)"
   ]
  },
  {
   "cell_type": "code",
   "execution_count": 11,
   "metadata": {},
   "outputs": [
    {
     "data": {
      "text/html": "<div>\n<style scoped>\n    .dataframe tbody tr th:only-of-type {\n        vertical-align: middle;\n    }\n\n    .dataframe tbody tr th {\n        vertical-align: top;\n    }\n\n    .dataframe thead th {\n        text-align: right;\n    }\n</style>\n<table border=\"1\" class=\"dataframe\">\n  <thead>\n    <tr style=\"text-align: right;\">\n      <th></th>\n      <th>timestamp</th>\n      <th>block_number</th>\n      <th>from</th>\n      <th>to</th>\n      <th>input</th>\n      <th>hash</th>\n      <th>value</th>\n      <th>gas</th>\n      <th>gas_price</th>\n      <th>gas_used</th>\n      <th>...</th>\n      <th>249739</th>\n      <th>53000000000</th>\n      <th>249739.1</th>\n      <th>15</th>\n      <th>95</th>\n      <th>False</th>\n      <th>True</th>\n      <th>85</th>\n      <th>12563333</th>\n      <th>0xa893b6370180e9e857c213a858d93a85fc5a5e5f3ea72d70230d214f53d0baa9</th>\n    </tr>\n  </thead>\n  <tbody>\n    <tr>\n      <th>0</th>\n      <td>2021-04-24 13:54:10</td>\n      <td>12304675</td>\n      <td>0xd6395c768b5008ef8779b6525d7d903603e15b5c</td>\n      <td>0xcd4ec7b66fbc029c116ba9ffb3e59351c20b5b06</td>\n      <td>0x9cec6392000000000000000000000000b1fa25350cd0...</td>\n      <td>0xca673379719b005f1229c68f2506fa36924142276927...</td>\n      <td>0.001896</td>\n      <td>249751</td>\n      <td>53000000000</td>\n      <td>249751</td>\n      <td>...</td>\n      <td>NaN</td>\n      <td>NaN</td>\n      <td>NaN</td>\n      <td>NaN</td>\n      <td>NaN</td>\n      <td>NaN</td>\n      <td>NaN</td>\n      <td>NaN</td>\n      <td>NaN</td>\n      <td>NaN</td>\n    </tr>\n    <tr>\n      <th>1</th>\n      <td>2021-04-24 13:54:10</td>\n      <td>12304675</td>\n      <td>0x36ed2d75a82e180e0871456b15c239b73b4ee9f4</td>\n      <td>0xcd4ec7b66fbc029c116ba9ffb3e59351c20b5b06</td>\n      <td>0x9cec639200000000000000000000000086ec43fd8aa1...</td>\n      <td>0xc464448801c57aafbf5b422f8d01f2e51846f380901a...</td>\n      <td>0.005125</td>\n      <td>266839</td>\n      <td>53000000000</td>\n      <td>266839</td>\n      <td>...</td>\n      <td>NaN</td>\n      <td>NaN</td>\n      <td>NaN</td>\n      <td>NaN</td>\n      <td>NaN</td>\n      <td>NaN</td>\n      <td>NaN</td>\n      <td>NaN</td>\n      <td>NaN</td>\n      <td>NaN</td>\n    </tr>\n    <tr>\n      <th>2</th>\n      <td>2021-04-24 13:54:23</td>\n      <td>12304677</td>\n      <td>0xf35fdc03030ac54840c4c2c4ac38dd873795cec2</td>\n      <td>0xcd4ec7b66fbc029c116ba9ffb3e59351c20b5b06</td>\n      <td>0x9cec63920000000000000000000000008d003a32c096...</td>\n      <td>0xf3d3804a5e4bb8e2d675d52ec86d8d8ed92609df52b7...</td>\n      <td>0.010250</td>\n      <td>249715</td>\n      <td>52000000000</td>\n      <td>249715</td>\n      <td>...</td>\n      <td>NaN</td>\n      <td>NaN</td>\n      <td>NaN</td>\n      <td>NaN</td>\n      <td>NaN</td>\n      <td>NaN</td>\n      <td>NaN</td>\n      <td>NaN</td>\n      <td>NaN</td>\n      <td>NaN</td>\n    </tr>\n    <tr>\n      <th>3</th>\n      <td>2021-04-24 13:58:26</td>\n      <td>12304695</td>\n      <td>0xe9d2dca3ce579e181255edd661f95a6fcaccd31d</td>\n      <td>0xcd4ec7b66fbc029c116ba9ffb3e59351c20b5b06</td>\n      <td>0x9cec6392000000000000000000000000d8e0ba725055...</td>\n      <td>0xc8f0e58b39bbfb2ed11b90902def83abe7243025f9f0...</td>\n      <td>0.102500</td>\n      <td>266827</td>\n      <td>61000000000</td>\n      <td>266827</td>\n      <td>...</td>\n      <td>NaN</td>\n      <td>NaN</td>\n      <td>NaN</td>\n      <td>NaN</td>\n      <td>NaN</td>\n      <td>NaN</td>\n      <td>NaN</td>\n      <td>NaN</td>\n      <td>NaN</td>\n      <td>NaN</td>\n    </tr>\n    <tr>\n      <th>4</th>\n      <td>2021-04-24 14:00:07</td>\n      <td>12304703</td>\n      <td>0x4d7d960252eedd37b7d73c6915da37ba8c99bb69</td>\n      <td>0xcd4ec7b66fbc029c116ba9ffb3e59351c20b5b06</td>\n      <td>0x9cec63920000000000000000000000008431f7c99d42...</td>\n      <td>0x7ef5957ed4ee5105a75b3a3ef178f026ccc268d8dcfa...</td>\n      <td>0.030750</td>\n      <td>249715</td>\n      <td>52000000000</td>\n      <td>249715</td>\n      <td>...</td>\n      <td>NaN</td>\n      <td>NaN</td>\n      <td>NaN</td>\n      <td>NaN</td>\n      <td>NaN</td>\n      <td>NaN</td>\n      <td>NaN</td>\n      <td>NaN</td>\n      <td>NaN</td>\n      <td>NaN</td>\n    </tr>\n    <tr>\n      <th>5</th>\n      <td>2021-04-24 14:00:55</td>\n      <td>12304709</td>\n      <td>0x194618ff8547beb766d60071ef200f71df1f47e2</td>\n      <td>0xcd4ec7b66fbc029c116ba9ffb3e59351c20b5b06</td>\n      <td>0x9cec6392000000000000000000000000113f2cf739d7...</td>\n      <td>0xa23fce4a5ae712143141c3aaefc6dae9f9f9cb4b8c04...</td>\n      <td>0.010250</td>\n      <td>249739</td>\n      <td>52000000000</td>\n      <td>249739</td>\n      <td>...</td>\n      <td>NaN</td>\n      <td>NaN</td>\n      <td>NaN</td>\n      <td>NaN</td>\n      <td>NaN</td>\n      <td>NaN</td>\n      <td>NaN</td>\n      <td>NaN</td>\n      <td>NaN</td>\n      <td>NaN</td>\n    </tr>\n    <tr>\n      <th>6</th>\n      <td>2021-04-24 14:01:36</td>\n      <td>12304713</td>\n      <td>0x724b1c8a6bf6bf0681b3f8c312a3e61a9364de06</td>\n      <td>0xcd4ec7b66fbc029c116ba9ffb3e59351c20b5b06</td>\n      <td>0x9cec6392000000000000000000000000979f8cdc881f...</td>\n      <td>0xfc627f82f33792e94da77afb211be5de800db227bc8c...</td>\n      <td>0.153750</td>\n      <td>319474</td>\n      <td>52000000000</td>\n      <td>274474</td>\n      <td>...</td>\n      <td>NaN</td>\n      <td>NaN</td>\n      <td>NaN</td>\n      <td>NaN</td>\n      <td>NaN</td>\n      <td>NaN</td>\n      <td>NaN</td>\n      <td>NaN</td>\n      <td>NaN</td>\n      <td>NaN</td>\n    </tr>\n    <tr>\n      <th>7</th>\n      <td>2021-04-24 14:02:00</td>\n      <td>12304716</td>\n      <td>0x9854990358e62ff3f0a62d14e2e1df5e729c95f9</td>\n      <td>0xcd4ec7b66fbc029c116ba9ffb3e59351c20b5b06</td>\n      <td>0x9cec6392000000000000000000000000a12235589204...</td>\n      <td>0xa2ed0eee0f95aba32dadd43d30d3840e20d752c0c516...</td>\n      <td>0.153750</td>\n      <td>266803</td>\n      <td>120000000000</td>\n      <td>266803</td>\n      <td>...</td>\n      <td>NaN</td>\n      <td>NaN</td>\n      <td>NaN</td>\n      <td>NaN</td>\n      <td>NaN</td>\n      <td>NaN</td>\n      <td>NaN</td>\n      <td>NaN</td>\n      <td>NaN</td>\n      <td>NaN</td>\n    </tr>\n    <tr>\n      <th>8</th>\n      <td>2021-04-24 14:03:50</td>\n      <td>12304720</td>\n      <td>0xe6f3f846390f36efc840b9a3e6148c340d9d39e6</td>\n      <td>0xcd4ec7b66fbc029c116ba9ffb3e59351c20b5b06</td>\n      <td>0x9cec6392000000000000000000000000abe67ca4eefb...</td>\n      <td>0xe3df32e8918b27e625622d46c626d9b26ac12ea0c0a3...</td>\n      <td>0.512500</td>\n      <td>249739</td>\n      <td>67000000000</td>\n      <td>234739</td>\n      <td>...</td>\n      <td>NaN</td>\n      <td>NaN</td>\n      <td>NaN</td>\n      <td>NaN</td>\n      <td>NaN</td>\n      <td>NaN</td>\n      <td>NaN</td>\n      <td>NaN</td>\n      <td>NaN</td>\n      <td>NaN</td>\n    </tr>\n    <tr>\n      <th>9</th>\n      <td>2021-04-24 14:05:18</td>\n      <td>12304727</td>\n      <td>0xa84ec76b0d783e68a844565f450c163097a182ea</td>\n      <td>0xcd4ec7b66fbc029c116ba9ffb3e59351c20b5b06</td>\n      <td>0x9cec6392000000000000000000000000a922df1e9044...</td>\n      <td>0x18428f6d1ae38bab968d6e811face9d8f8fe2138135a...</td>\n      <td>2.870000</td>\n      <td>266839</td>\n      <td>52000000000</td>\n      <td>266839</td>\n      <td>...</td>\n      <td>NaN</td>\n      <td>NaN</td>\n      <td>NaN</td>\n      <td>NaN</td>\n      <td>NaN</td>\n      <td>NaN</td>\n      <td>NaN</td>\n      <td>NaN</td>\n      <td>NaN</td>\n      <td>NaN</td>\n    </tr>\n    <tr>\n      <th>10</th>\n      <td>2021-04-24 14:05:50</td>\n      <td>12304731</td>\n      <td>0x001511d1cf99d0287f65945498d34e526cc40849</td>\n      <td>0xcd4ec7b66fbc029c116ba9ffb3e59351c20b5b06</td>\n      <td>0x9cec6392000000000000000000000000113f2cf739d7...</td>\n      <td>0x6a117b127936b6c024581e840e9f15fde7de7c01e1c7...</td>\n      <td>0.010250</td>\n      <td>249739</td>\n      <td>51000000000</td>\n      <td>249739</td>\n      <td>...</td>\n      <td>NaN</td>\n      <td>NaN</td>\n      <td>NaN</td>\n      <td>NaN</td>\n      <td>NaN</td>\n      <td>NaN</td>\n      <td>NaN</td>\n      <td>NaN</td>\n      <td>NaN</td>\n      <td>NaN</td>\n    </tr>\n    <tr>\n      <th>11</th>\n      <td>2021-04-24 14:05:53</td>\n      <td>12304732</td>\n      <td>0x3b623b731016522e6c71d373b3bbd0f1f36cab02</td>\n      <td>0xcd4ec7b66fbc029c116ba9ffb3e59351c20b5b06</td>\n      <td>0x9cec6392000000000000000000000000a465ee4b2fb8...</td>\n      <td>0x192586cb3058a756c81f7d9131699f9259ab398967d8...</td>\n      <td>0.061500</td>\n      <td>266839</td>\n      <td>50634355246</td>\n      <td>266839</td>\n      <td>...</td>\n      <td>NaN</td>\n      <td>NaN</td>\n      <td>NaN</td>\n      <td>NaN</td>\n      <td>NaN</td>\n      <td>NaN</td>\n      <td>NaN</td>\n      <td>NaN</td>\n      <td>NaN</td>\n      <td>NaN</td>\n    </tr>\n    <tr>\n      <th>12</th>\n      <td>2021-04-24 14:07:26</td>\n      <td>12304740</td>\n      <td>0x27899282184a2c3a18b54766d6435fee75910a70</td>\n      <td>0xcd4ec7b66fbc029c116ba9ffb3e59351c20b5b06</td>\n      <td>0x9cec6392000000000000000000000000addf9f0ed23e...</td>\n      <td>0x7dff57327c37b4735d2ea3ae2b46f539ac1249faf7a4...</td>\n      <td>0.210125</td>\n      <td>266827</td>\n      <td>65000000000</td>\n      <td>266827</td>\n      <td>...</td>\n      <td>NaN</td>\n      <td>NaN</td>\n      <td>NaN</td>\n      <td>NaN</td>\n      <td>NaN</td>\n      <td>NaN</td>\n      <td>NaN</td>\n      <td>NaN</td>\n      <td>NaN</td>\n      <td>NaN</td>\n    </tr>\n    <tr>\n      <th>13</th>\n      <td>2021-04-24 14:09:42</td>\n      <td>12304748</td>\n      <td>0x14725b66243d5a0060e010a85b5bace2a8533911</td>\n      <td>0xcd4ec7b66fbc029c116ba9ffb3e59351c20b5b06</td>\n      <td>0x9cec6392000000000000000000000000148b6418f88d...</td>\n      <td>0x97245eba4d766d4bf1751664be122935a49f4bce0cd8...</td>\n      <td>2.972500</td>\n      <td>266851</td>\n      <td>52000000000</td>\n      <td>266851</td>\n      <td>...</td>\n      <td>NaN</td>\n      <td>NaN</td>\n      <td>NaN</td>\n      <td>NaN</td>\n      <td>NaN</td>\n      <td>NaN</td>\n      <td>NaN</td>\n      <td>NaN</td>\n      <td>NaN</td>\n      <td>NaN</td>\n    </tr>\n    <tr>\n      <th>14</th>\n      <td>2021-04-24 14:11:37</td>\n      <td>12304757</td>\n      <td>0x001511d1cf99d0287f65945498d34e526cc40849</td>\n      <td>0xcd4ec7b66fbc029c116ba9ffb3e59351c20b5b06</td>\n      <td>0x9cec63920000000000000000000000001427459072e6...</td>\n      <td>0x6350dd366410ccf9937beeace56bd1f5128caa48cb0c...</td>\n      <td>0.025625</td>\n      <td>269339</td>\n      <td>52000000000</td>\n      <td>269339</td>\n      <td>...</td>\n      <td>NaN</td>\n      <td>NaN</td>\n      <td>NaN</td>\n      <td>NaN</td>\n      <td>NaN</td>\n      <td>NaN</td>\n      <td>NaN</td>\n      <td>NaN</td>\n      <td>NaN</td>\n      <td>NaN</td>\n    </tr>\n  </tbody>\n</table>\n<p>15 rows × 33 columns</p>\n</div>",
      "text/plain": "              timestamp  block_number  \\\n0   2021-04-24 13:54:10      12304675   \n1   2021-04-24 13:54:10      12304675   \n2   2021-04-24 13:54:23      12304677   \n3   2021-04-24 13:58:26      12304695   \n4   2021-04-24 14:00:07      12304703   \n5   2021-04-24 14:00:55      12304709   \n6   2021-04-24 14:01:36      12304713   \n7   2021-04-24 14:02:00      12304716   \n8   2021-04-24 14:03:50      12304720   \n9   2021-04-24 14:05:18      12304727   \n10  2021-04-24 14:05:50      12304731   \n11  2021-04-24 14:05:53      12304732   \n12  2021-04-24 14:07:26      12304740   \n13  2021-04-24 14:09:42      12304748   \n14  2021-04-24 14:11:37      12304757   \n\n                                          from  \\\n0   0xd6395c768b5008ef8779b6525d7d903603e15b5c   \n1   0x36ed2d75a82e180e0871456b15c239b73b4ee9f4   \n2   0xf35fdc03030ac54840c4c2c4ac38dd873795cec2   \n3   0xe9d2dca3ce579e181255edd661f95a6fcaccd31d   \n4   0x4d7d960252eedd37b7d73c6915da37ba8c99bb69   \n5   0x194618ff8547beb766d60071ef200f71df1f47e2   \n6   0x724b1c8a6bf6bf0681b3f8c312a3e61a9364de06   \n7   0x9854990358e62ff3f0a62d14e2e1df5e729c95f9   \n8   0xe6f3f846390f36efc840b9a3e6148c340d9d39e6   \n9   0xa84ec76b0d783e68a844565f450c163097a182ea   \n10  0x001511d1cf99d0287f65945498d34e526cc40849   \n11  0x3b623b731016522e6c71d373b3bbd0f1f36cab02   \n12  0x27899282184a2c3a18b54766d6435fee75910a70   \n13  0x14725b66243d5a0060e010a85b5bace2a8533911   \n14  0x001511d1cf99d0287f65945498d34e526cc40849   \n\n                                            to  \\\n0   0xcd4ec7b66fbc029c116ba9ffb3e59351c20b5b06   \n1   0xcd4ec7b66fbc029c116ba9ffb3e59351c20b5b06   \n2   0xcd4ec7b66fbc029c116ba9ffb3e59351c20b5b06   \n3   0xcd4ec7b66fbc029c116ba9ffb3e59351c20b5b06   \n4   0xcd4ec7b66fbc029c116ba9ffb3e59351c20b5b06   \n5   0xcd4ec7b66fbc029c116ba9ffb3e59351c20b5b06   \n6   0xcd4ec7b66fbc029c116ba9ffb3e59351c20b5b06   \n7   0xcd4ec7b66fbc029c116ba9ffb3e59351c20b5b06   \n8   0xcd4ec7b66fbc029c116ba9ffb3e59351c20b5b06   \n9   0xcd4ec7b66fbc029c116ba9ffb3e59351c20b5b06   \n10  0xcd4ec7b66fbc029c116ba9ffb3e59351c20b5b06   \n11  0xcd4ec7b66fbc029c116ba9ffb3e59351c20b5b06   \n12  0xcd4ec7b66fbc029c116ba9ffb3e59351c20b5b06   \n13  0xcd4ec7b66fbc029c116ba9ffb3e59351c20b5b06   \n14  0xcd4ec7b66fbc029c116ba9ffb3e59351c20b5b06   \n\n                                                input  \\\n0   0x9cec6392000000000000000000000000b1fa25350cd0...   \n1   0x9cec639200000000000000000000000086ec43fd8aa1...   \n2   0x9cec63920000000000000000000000008d003a32c096...   \n3   0x9cec6392000000000000000000000000d8e0ba725055...   \n4   0x9cec63920000000000000000000000008431f7c99d42...   \n5   0x9cec6392000000000000000000000000113f2cf739d7...   \n6   0x9cec6392000000000000000000000000979f8cdc881f...   \n7   0x9cec6392000000000000000000000000a12235589204...   \n8   0x9cec6392000000000000000000000000abe67ca4eefb...   \n9   0x9cec6392000000000000000000000000a922df1e9044...   \n10  0x9cec6392000000000000000000000000113f2cf739d7...   \n11  0x9cec6392000000000000000000000000a465ee4b2fb8...   \n12  0x9cec6392000000000000000000000000addf9f0ed23e...   \n13  0x9cec6392000000000000000000000000148b6418f88d...   \n14  0x9cec63920000000000000000000000001427459072e6...   \n\n                                                 hash     value     gas  \\\n0   0xca673379719b005f1229c68f2506fa36924142276927...  0.001896  249751   \n1   0xc464448801c57aafbf5b422f8d01f2e51846f380901a...  0.005125  266839   \n2   0xf3d3804a5e4bb8e2d675d52ec86d8d8ed92609df52b7...  0.010250  249715   \n3   0xc8f0e58b39bbfb2ed11b90902def83abe7243025f9f0...  0.102500  266827   \n4   0x7ef5957ed4ee5105a75b3a3ef178f026ccc268d8dcfa...  0.030750  249715   \n5   0xa23fce4a5ae712143141c3aaefc6dae9f9f9cb4b8c04...  0.010250  249739   \n6   0xfc627f82f33792e94da77afb211be5de800db227bc8c...  0.153750  319474   \n7   0xa2ed0eee0f95aba32dadd43d30d3840e20d752c0c516...  0.153750  266803   \n8   0xe3df32e8918b27e625622d46c626d9b26ac12ea0c0a3...  0.512500  249739   \n9   0x18428f6d1ae38bab968d6e811face9d8f8fe2138135a...  2.870000  266839   \n10  0x6a117b127936b6c024581e840e9f15fde7de7c01e1c7...  0.010250  249739   \n11  0x192586cb3058a756c81f7d9131699f9259ab398967d8...  0.061500  266839   \n12  0x7dff57327c37b4735d2ea3ae2b46f539ac1249faf7a4...  0.210125  266827   \n13  0x97245eba4d766d4bf1751664be122935a49f4bce0cd8...  2.972500  266851   \n14  0x6350dd366410ccf9937beeace56bd1f5128caa48cb0c...  0.025625  269339   \n\n       gas_price  gas_used  ...  249739  53000000000  249739.1  15  95  False  \\\n0    53000000000    249751  ...     NaN          NaN       NaN NaN NaN    NaN   \n1    53000000000    266839  ...     NaN          NaN       NaN NaN NaN    NaN   \n2    52000000000    249715  ...     NaN          NaN       NaN NaN NaN    NaN   \n3    61000000000    266827  ...     NaN          NaN       NaN NaN NaN    NaN   \n4    52000000000    249715  ...     NaN          NaN       NaN NaN NaN    NaN   \n5    52000000000    249739  ...     NaN          NaN       NaN NaN NaN    NaN   \n6    52000000000    274474  ...     NaN          NaN       NaN NaN NaN    NaN   \n7   120000000000    266803  ...     NaN          NaN       NaN NaN NaN    NaN   \n8    67000000000    234739  ...     NaN          NaN       NaN NaN NaN    NaN   \n9    52000000000    266839  ...     NaN          NaN       NaN NaN NaN    NaN   \n10   51000000000    249739  ...     NaN          NaN       NaN NaN NaN    NaN   \n11   50634355246    266839  ...     NaN          NaN       NaN NaN NaN    NaN   \n12   65000000000    266827  ...     NaN          NaN       NaN NaN NaN    NaN   \n13   52000000000    266851  ...     NaN          NaN       NaN NaN NaN    NaN   \n14   52000000000    269339  ...     NaN          NaN       NaN NaN NaN    NaN   \n\n   True  85  12563333  \\\n0   NaN NaN       NaN   \n1   NaN NaN       NaN   \n2   NaN NaN       NaN   \n3   NaN NaN       NaN   \n4   NaN NaN       NaN   \n5   NaN NaN       NaN   \n6   NaN NaN       NaN   \n7   NaN NaN       NaN   \n8   NaN NaN       NaN   \n9   NaN NaN       NaN   \n10  NaN NaN       NaN   \n11  NaN NaN       NaN   \n12  NaN NaN       NaN   \n13  NaN NaN       NaN   \n14  NaN NaN       NaN   \n\n    0xa893b6370180e9e857c213a858d93a85fc5a5e5f3ea72d70230d214f53d0baa9  \n0                                                 NaN                   \n1                                                 NaN                   \n2                                                 NaN                   \n3                                                 NaN                   \n4                                                 NaN                   \n5                                                 NaN                   \n6                                                 NaN                   \n7                                                 NaN                   \n8                                                 NaN                   \n9                                                 NaN                   \n10                                                NaN                   \n11                                                NaN                   \n12                                                NaN                   \n13                                                NaN                   \n14                                                NaN                   \n\n[15 rows x 33 columns]"
     },
     "execution_count": 11,
     "metadata": {},
     "output_type": "execute_result"
    }
   ],
   "source": [
    "rarible_df = pd.read_csv('rarible.csv')\n",
    "rarible_df"
   ]
  },
  {
   "cell_type": "code",
   "execution_count": 12,
   "metadata": {},
   "outputs": [
    {
     "data": {
      "application/vnd.plotly.v1+json": {
       "config": {
        "plotlyServerURL": "https://plot.ly"
       },
       "data": [
        {
         "marker": {
          "color": [
           0.00189625,
           0.005125,
           0.01025,
           0.1025,
           0.03075,
           0.01025,
           0.15375,
           0.15375,
           0.5125,
           2.87,
           0.01025,
           0.0615,
           0.210125,
           2.9725,
           0.025625
          ],
          "colorscale": [
           [
            0,
            "#00224e"
           ],
           [
            0.1111111111111111,
            "#123570"
           ],
           [
            0.2222222222222222,
            "#3b496c"
           ],
           [
            0.3333333333333333,
            "#575d6d"
           ],
           [
            0.4444444444444444,
            "#707173"
           ],
           [
            0.5555555555555556,
            "#8a8678"
           ],
           [
            0.6666666666666666,
            "#a59c74"
           ],
           [
            0.7777777777777778,
            "#c3b369"
           ],
           [
            0.8888888888888888,
            "#e1cc55"
           ],
           [
            1,
            "#fee838"
           ]
          ],
          "line": {
           "color": "grey",
           "width": 0.5
          },
          "showscale": false,
          "size": [
           0.00189625,
           0.005125,
           0.01025,
           0.1025,
           0.03075,
           0.01025,
           0.15375,
           0.15375,
           0.5125,
           2.87,
           0.01025,
           0.0615,
           0.210125,
           2.9725,
           0.025625
          ]
         },
         "mode": "markers",
         "name": "0     0xca673379719b005f1229c68f2506fa36924142276927...\n1     0xc464448801c57aafbf5b422f8d01f2e51846f380901a...\n2     0xf3d3804a5e4bb8e2d675d52ec86d8d8ed92609df52b7...\n3     0xc8f0e58b39bbfb2ed11b90902def83abe7243025f9f0...\n4     0x7ef5957ed4ee5105a75b3a3ef178f026ccc268d8dcfa...\n5     0xa23fce4a5ae712143141c3aaefc6dae9f9f9cb4b8c04...\n6     0xfc627f82f33792e94da77afb211be5de800db227bc8c...\n7     0xa2ed0eee0f95aba32dadd43d30d3840e20d752c0c516...\n8     0xe3df32e8918b27e625622d46c626d9b26ac12ea0c0a3...\n9     0x18428f6d1ae38bab968d6e811face9d8f8fe2138135a...\n10    0x6a117b127936b6c024581e840e9f15fde7de7c01e1c7...\n11    0x192586cb3058a756c81f7d9131699f9259ab398967d8...\n12    0x7dff57327c37b4735d2ea3ae2b46f539ac1249faf7a4...\n13    0x97245eba4d766d4bf1751664be122935a49f4bce0cd8...\n14    0x6350dd366410ccf9937beeace56bd1f5128caa48cb0c...\nName: hash, dtype: object",
         "text": [
          "0xca673379719b005f1229c68f2506fa3692414227692762deb13ee6c56fc14b24",
          "0xc464448801c57aafbf5b422f8d01f2e51846f380901a2b7f8f1018bd515f9852",
          "0xf3d3804a5e4bb8e2d675d52ec86d8d8ed92609df52b7b1f8ca288beb748872d6",
          "0xc8f0e58b39bbfb2ed11b90902def83abe7243025f9f038da1ca6d24b993e6b5e",
          "0x7ef5957ed4ee5105a75b3a3ef178f026ccc268d8dcfad98580a17d9187e7c73a",
          "0xa23fce4a5ae712143141c3aaefc6dae9f9f9cb4b8c04086950fb8abec5303293",
          "0xfc627f82f33792e94da77afb211be5de800db227bc8cfd7d2e13fcb7805e627d",
          "0xa2ed0eee0f95aba32dadd43d30d3840e20d752c0c516f9f102199b54089dff14",
          "0xe3df32e8918b27e625622d46c626d9b26ac12ea0c0a397d7af577a4bf3fd5857",
          "0x18428f6d1ae38bab968d6e811face9d8f8fe2138135aebd99cd8ad43fa1132b0",
          "0x6a117b127936b6c024581e840e9f15fde7de7c01e1c7a964cfa25c5f39e3485b",
          "0x192586cb3058a756c81f7d9131699f9259ab398967d8d6a6e90520f0409cb076",
          "0x7dff57327c37b4735d2ea3ae2b46f539ac1249faf7a45ab4fc7c6de2ba09c137",
          "0x97245eba4d766d4bf1751664be122935a49f4bce0cd81f4842c637185f2d26ba",
          "0x6350dd366410ccf9937beeace56bd1f5128caa48cb0c5780c005e62475a2d857"
         ],
         "type": "scatter",
         "x": [
          "2021-04-24 13:54:10",
          "2021-04-24 13:54:10",
          "2021-04-24 13:54:23",
          "2021-04-24 13:58:26",
          "2021-04-24 14:00:07",
          "2021-04-24 14:00:55",
          "2021-04-24 14:01:36",
          "2021-04-24 14:02:00",
          "2021-04-24 14:03:50",
          "2021-04-24 14:05:18",
          "2021-04-24 14:05:50",
          "2021-04-24 14:05:53",
          "2021-04-24 14:07:26",
          "2021-04-24 14:09:42",
          "2021-04-24 14:11:37"
         ],
         "y": [
          0.00189625,
          0.005125,
          0.01025,
          0.1025,
          0.03075,
          0.01025,
          0.15375,
          0.15375,
          0.5125,
          2.87,
          0.01025,
          0.0615,
          0.210125,
          2.9725,
          0.025625
         ]
        }
       ],
       "layout": {
        "font": {
         "family": "Tahoma",
         "size": 10
        },
        "height": 900,
        "images": [
         {
          "layer": "below",
          "sizex": 6,
          "sizey": 6,
          "source": "gradient.png",
          "x": -1.5,
          "xref": "paper",
          "y": 1.2,
          "yref": "paper"
         }
        ],
        "legend": {
         "title": {
          "text": "Comparison"
         }
        },
        "paper_bgcolor": "rgba(0,0,0,0)",
        "plot_bgcolor": "rgba(0,0,0,0)",
        "shapes": [
         {
          "line": {
           "color": "Red"
          },
          "type": "line",
          "x0": "2021-04-24 13:54:10",
          "x1": "2021-04-24 14:11:37",
          "xref": "x",
          "y0": 30,
          "y1": 30,
          "yref": "y"
         }
        ],
        "template": {
         "data": {
          "bar": [
           {
            "error_x": {
             "color": "rgb(36,36,36)"
            },
            "error_y": {
             "color": "rgb(36,36,36)"
            },
            "marker": {
             "line": {
              "color": "rgb(234,234,242)",
              "width": 0.5
             }
            },
            "type": "bar"
           }
          ],
          "barpolar": [
           {
            "marker": {
             "line": {
              "color": "rgb(234,234,242)",
              "width": 0.5
             }
            },
            "type": "barpolar"
           }
          ],
          "carpet": [
           {
            "aaxis": {
             "endlinecolor": "rgb(36,36,36)",
             "gridcolor": "white",
             "linecolor": "white",
             "minorgridcolor": "white",
             "startlinecolor": "rgb(36,36,36)"
            },
            "baxis": {
             "endlinecolor": "rgb(36,36,36)",
             "gridcolor": "white",
             "linecolor": "white",
             "minorgridcolor": "white",
             "startlinecolor": "rgb(36,36,36)"
            },
            "type": "carpet"
           }
          ],
          "choropleth": [
           {
            "colorbar": {
             "outlinewidth": 0,
             "tickcolor": "rgb(36,36,36)",
             "ticklen": 8,
             "ticks": "outside",
             "tickwidth": 2
            },
            "type": "choropleth"
           }
          ],
          "contour": [
           {
            "colorbar": {
             "outlinewidth": 0,
             "tickcolor": "rgb(36,36,36)",
             "ticklen": 8,
             "ticks": "outside",
             "tickwidth": 2
            },
            "colorscale": [
             [
              0,
              "rgb(2,4,25)"
             ],
             [
              0.06274509803921569,
              "rgb(24,15,41)"
             ],
             [
              0.12549019607843137,
              "rgb(47,23,57)"
             ],
             [
              0.18823529411764706,
              "rgb(71,28,72)"
             ],
             [
              0.25098039215686274,
              "rgb(97,30,82)"
             ],
             [
              0.3137254901960784,
              "rgb(123,30,89)"
             ],
             [
              0.3764705882352941,
              "rgb(150,27,91)"
             ],
             [
              0.4392156862745098,
              "rgb(177,22,88)"
             ],
             [
              0.5019607843137255,
              "rgb(203,26,79)"
             ],
             [
              0.5647058823529412,
              "rgb(223,47,67)"
             ],
             [
              0.6274509803921569,
              "rgb(236,76,61)"
             ],
             [
              0.6901960784313725,
              "rgb(242,107,73)"
             ],
             [
              0.7529411764705882,
              "rgb(244,135,95)"
             ],
             [
              0.8156862745098039,
              "rgb(245,162,122)"
             ],
             [
              0.8784313725490196,
              "rgb(246,188,153)"
             ],
             [
              0.9411764705882353,
              "rgb(247,212,187)"
             ],
             [
              1,
              "rgb(250,234,220)"
             ]
            ],
            "type": "contour"
           }
          ],
          "contourcarpet": [
           {
            "colorbar": {
             "outlinewidth": 0,
             "tickcolor": "rgb(36,36,36)",
             "ticklen": 8,
             "ticks": "outside",
             "tickwidth": 2
            },
            "type": "contourcarpet"
           }
          ],
          "heatmap": [
           {
            "colorbar": {
             "outlinewidth": 0,
             "tickcolor": "rgb(36,36,36)",
             "ticklen": 8,
             "ticks": "outside",
             "tickwidth": 2
            },
            "colorscale": [
             [
              0,
              "rgb(2,4,25)"
             ],
             [
              0.06274509803921569,
              "rgb(24,15,41)"
             ],
             [
              0.12549019607843137,
              "rgb(47,23,57)"
             ],
             [
              0.18823529411764706,
              "rgb(71,28,72)"
             ],
             [
              0.25098039215686274,
              "rgb(97,30,82)"
             ],
             [
              0.3137254901960784,
              "rgb(123,30,89)"
             ],
             [
              0.3764705882352941,
              "rgb(150,27,91)"
             ],
             [
              0.4392156862745098,
              "rgb(177,22,88)"
             ],
             [
              0.5019607843137255,
              "rgb(203,26,79)"
             ],
             [
              0.5647058823529412,
              "rgb(223,47,67)"
             ],
             [
              0.6274509803921569,
              "rgb(236,76,61)"
             ],
             [
              0.6901960784313725,
              "rgb(242,107,73)"
             ],
             [
              0.7529411764705882,
              "rgb(244,135,95)"
             ],
             [
              0.8156862745098039,
              "rgb(245,162,122)"
             ],
             [
              0.8784313725490196,
              "rgb(246,188,153)"
             ],
             [
              0.9411764705882353,
              "rgb(247,212,187)"
             ],
             [
              1,
              "rgb(250,234,220)"
             ]
            ],
            "type": "heatmap"
           }
          ],
          "heatmapgl": [
           {
            "colorbar": {
             "outlinewidth": 0,
             "tickcolor": "rgb(36,36,36)",
             "ticklen": 8,
             "ticks": "outside",
             "tickwidth": 2
            },
            "colorscale": [
             [
              0,
              "rgb(2,4,25)"
             ],
             [
              0.06274509803921569,
              "rgb(24,15,41)"
             ],
             [
              0.12549019607843137,
              "rgb(47,23,57)"
             ],
             [
              0.18823529411764706,
              "rgb(71,28,72)"
             ],
             [
              0.25098039215686274,
              "rgb(97,30,82)"
             ],
             [
              0.3137254901960784,
              "rgb(123,30,89)"
             ],
             [
              0.3764705882352941,
              "rgb(150,27,91)"
             ],
             [
              0.4392156862745098,
              "rgb(177,22,88)"
             ],
             [
              0.5019607843137255,
              "rgb(203,26,79)"
             ],
             [
              0.5647058823529412,
              "rgb(223,47,67)"
             ],
             [
              0.6274509803921569,
              "rgb(236,76,61)"
             ],
             [
              0.6901960784313725,
              "rgb(242,107,73)"
             ],
             [
              0.7529411764705882,
              "rgb(244,135,95)"
             ],
             [
              0.8156862745098039,
              "rgb(245,162,122)"
             ],
             [
              0.8784313725490196,
              "rgb(246,188,153)"
             ],
             [
              0.9411764705882353,
              "rgb(247,212,187)"
             ],
             [
              1,
              "rgb(250,234,220)"
             ]
            ],
            "type": "heatmapgl"
           }
          ],
          "histogram": [
           {
            "marker": {
             "colorbar": {
              "outlinewidth": 0,
              "tickcolor": "rgb(36,36,36)",
              "ticklen": 8,
              "ticks": "outside",
              "tickwidth": 2
             }
            },
            "type": "histogram"
           }
          ],
          "histogram2d": [
           {
            "colorbar": {
             "outlinewidth": 0,
             "tickcolor": "rgb(36,36,36)",
             "ticklen": 8,
             "ticks": "outside",
             "tickwidth": 2
            },
            "colorscale": [
             [
              0,
              "rgb(2,4,25)"
             ],
             [
              0.06274509803921569,
              "rgb(24,15,41)"
             ],
             [
              0.12549019607843137,
              "rgb(47,23,57)"
             ],
             [
              0.18823529411764706,
              "rgb(71,28,72)"
             ],
             [
              0.25098039215686274,
              "rgb(97,30,82)"
             ],
             [
              0.3137254901960784,
              "rgb(123,30,89)"
             ],
             [
              0.3764705882352941,
              "rgb(150,27,91)"
             ],
             [
              0.4392156862745098,
              "rgb(177,22,88)"
             ],
             [
              0.5019607843137255,
              "rgb(203,26,79)"
             ],
             [
              0.5647058823529412,
              "rgb(223,47,67)"
             ],
             [
              0.6274509803921569,
              "rgb(236,76,61)"
             ],
             [
              0.6901960784313725,
              "rgb(242,107,73)"
             ],
             [
              0.7529411764705882,
              "rgb(244,135,95)"
             ],
             [
              0.8156862745098039,
              "rgb(245,162,122)"
             ],
             [
              0.8784313725490196,
              "rgb(246,188,153)"
             ],
             [
              0.9411764705882353,
              "rgb(247,212,187)"
             ],
             [
              1,
              "rgb(250,234,220)"
             ]
            ],
            "type": "histogram2d"
           }
          ],
          "histogram2dcontour": [
           {
            "colorbar": {
             "outlinewidth": 0,
             "tickcolor": "rgb(36,36,36)",
             "ticklen": 8,
             "ticks": "outside",
             "tickwidth": 2
            },
            "colorscale": [
             [
              0,
              "rgb(2,4,25)"
             ],
             [
              0.06274509803921569,
              "rgb(24,15,41)"
             ],
             [
              0.12549019607843137,
              "rgb(47,23,57)"
             ],
             [
              0.18823529411764706,
              "rgb(71,28,72)"
             ],
             [
              0.25098039215686274,
              "rgb(97,30,82)"
             ],
             [
              0.3137254901960784,
              "rgb(123,30,89)"
             ],
             [
              0.3764705882352941,
              "rgb(150,27,91)"
             ],
             [
              0.4392156862745098,
              "rgb(177,22,88)"
             ],
             [
              0.5019607843137255,
              "rgb(203,26,79)"
             ],
             [
              0.5647058823529412,
              "rgb(223,47,67)"
             ],
             [
              0.6274509803921569,
              "rgb(236,76,61)"
             ],
             [
              0.6901960784313725,
              "rgb(242,107,73)"
             ],
             [
              0.7529411764705882,
              "rgb(244,135,95)"
             ],
             [
              0.8156862745098039,
              "rgb(245,162,122)"
             ],
             [
              0.8784313725490196,
              "rgb(246,188,153)"
             ],
             [
              0.9411764705882353,
              "rgb(247,212,187)"
             ],
             [
              1,
              "rgb(250,234,220)"
             ]
            ],
            "type": "histogram2dcontour"
           }
          ],
          "mesh3d": [
           {
            "colorbar": {
             "outlinewidth": 0,
             "tickcolor": "rgb(36,36,36)",
             "ticklen": 8,
             "ticks": "outside",
             "tickwidth": 2
            },
            "type": "mesh3d"
           }
          ],
          "parcoords": [
           {
            "line": {
             "colorbar": {
              "outlinewidth": 0,
              "tickcolor": "rgb(36,36,36)",
              "ticklen": 8,
              "ticks": "outside",
              "tickwidth": 2
             }
            },
            "type": "parcoords"
           }
          ],
          "pie": [
           {
            "automargin": true,
            "type": "pie"
           }
          ],
          "scatter": [
           {
            "marker": {
             "colorbar": {
              "outlinewidth": 0,
              "tickcolor": "rgb(36,36,36)",
              "ticklen": 8,
              "ticks": "outside",
              "tickwidth": 2
             }
            },
            "type": "scatter"
           }
          ],
          "scatter3d": [
           {
            "line": {
             "colorbar": {
              "outlinewidth": 0,
              "tickcolor": "rgb(36,36,36)",
              "ticklen": 8,
              "ticks": "outside",
              "tickwidth": 2
             }
            },
            "marker": {
             "colorbar": {
              "outlinewidth": 0,
              "tickcolor": "rgb(36,36,36)",
              "ticklen": 8,
              "ticks": "outside",
              "tickwidth": 2
             }
            },
            "type": "scatter3d"
           }
          ],
          "scattercarpet": [
           {
            "marker": {
             "colorbar": {
              "outlinewidth": 0,
              "tickcolor": "rgb(36,36,36)",
              "ticklen": 8,
              "ticks": "outside",
              "tickwidth": 2
             }
            },
            "type": "scattercarpet"
           }
          ],
          "scattergeo": [
           {
            "marker": {
             "colorbar": {
              "outlinewidth": 0,
              "tickcolor": "rgb(36,36,36)",
              "ticklen": 8,
              "ticks": "outside",
              "tickwidth": 2
             }
            },
            "type": "scattergeo"
           }
          ],
          "scattergl": [
           {
            "marker": {
             "colorbar": {
              "outlinewidth": 0,
              "tickcolor": "rgb(36,36,36)",
              "ticklen": 8,
              "ticks": "outside",
              "tickwidth": 2
             }
            },
            "type": "scattergl"
           }
          ],
          "scattermapbox": [
           {
            "marker": {
             "colorbar": {
              "outlinewidth": 0,
              "tickcolor": "rgb(36,36,36)",
              "ticklen": 8,
              "ticks": "outside",
              "tickwidth": 2
             }
            },
            "type": "scattermapbox"
           }
          ],
          "scatterpolar": [
           {
            "marker": {
             "colorbar": {
              "outlinewidth": 0,
              "tickcolor": "rgb(36,36,36)",
              "ticklen": 8,
              "ticks": "outside",
              "tickwidth": 2
             }
            },
            "type": "scatterpolar"
           }
          ],
          "scatterpolargl": [
           {
            "marker": {
             "colorbar": {
              "outlinewidth": 0,
              "tickcolor": "rgb(36,36,36)",
              "ticklen": 8,
              "ticks": "outside",
              "tickwidth": 2
             }
            },
            "type": "scatterpolargl"
           }
          ],
          "scatterternary": [
           {
            "marker": {
             "colorbar": {
              "outlinewidth": 0,
              "tickcolor": "rgb(36,36,36)",
              "ticklen": 8,
              "ticks": "outside",
              "tickwidth": 2
             }
            },
            "type": "scatterternary"
           }
          ],
          "surface": [
           {
            "colorbar": {
             "outlinewidth": 0,
             "tickcolor": "rgb(36,36,36)",
             "ticklen": 8,
             "ticks": "outside",
             "tickwidth": 2
            },
            "colorscale": [
             [
              0,
              "rgb(2,4,25)"
             ],
             [
              0.06274509803921569,
              "rgb(24,15,41)"
             ],
             [
              0.12549019607843137,
              "rgb(47,23,57)"
             ],
             [
              0.18823529411764706,
              "rgb(71,28,72)"
             ],
             [
              0.25098039215686274,
              "rgb(97,30,82)"
             ],
             [
              0.3137254901960784,
              "rgb(123,30,89)"
             ],
             [
              0.3764705882352941,
              "rgb(150,27,91)"
             ],
             [
              0.4392156862745098,
              "rgb(177,22,88)"
             ],
             [
              0.5019607843137255,
              "rgb(203,26,79)"
             ],
             [
              0.5647058823529412,
              "rgb(223,47,67)"
             ],
             [
              0.6274509803921569,
              "rgb(236,76,61)"
             ],
             [
              0.6901960784313725,
              "rgb(242,107,73)"
             ],
             [
              0.7529411764705882,
              "rgb(244,135,95)"
             ],
             [
              0.8156862745098039,
              "rgb(245,162,122)"
             ],
             [
              0.8784313725490196,
              "rgb(246,188,153)"
             ],
             [
              0.9411764705882353,
              "rgb(247,212,187)"
             ],
             [
              1,
              "rgb(250,234,220)"
             ]
            ],
            "type": "surface"
           }
          ],
          "table": [
           {
            "cells": {
             "fill": {
              "color": "rgb(231,231,240)"
             },
             "line": {
              "color": "white"
             }
            },
            "header": {
             "fill": {
              "color": "rgb(183,183,191)"
             },
             "line": {
              "color": "white"
             }
            },
            "type": "table"
           }
          ]
         },
         "layout": {
          "annotationdefaults": {
           "arrowcolor": "rgb(67,103,167)"
          },
          "autotypenumbers": "strict",
          "coloraxis": {
           "colorbar": {
            "outlinewidth": 0,
            "tickcolor": "rgb(36,36,36)",
            "ticklen": 8,
            "ticks": "outside",
            "tickwidth": 2
           }
          },
          "colorscale": {
           "sequential": [
            [
             0,
             "rgb(2,4,25)"
            ],
            [
             0.06274509803921569,
             "rgb(24,15,41)"
            ],
            [
             0.12549019607843137,
             "rgb(47,23,57)"
            ],
            [
             0.18823529411764706,
             "rgb(71,28,72)"
            ],
            [
             0.25098039215686274,
             "rgb(97,30,82)"
            ],
            [
             0.3137254901960784,
             "rgb(123,30,89)"
            ],
            [
             0.3764705882352941,
             "rgb(150,27,91)"
            ],
            [
             0.4392156862745098,
             "rgb(177,22,88)"
            ],
            [
             0.5019607843137255,
             "rgb(203,26,79)"
            ],
            [
             0.5647058823529412,
             "rgb(223,47,67)"
            ],
            [
             0.6274509803921569,
             "rgb(236,76,61)"
            ],
            [
             0.6901960784313725,
             "rgb(242,107,73)"
            ],
            [
             0.7529411764705882,
             "rgb(244,135,95)"
            ],
            [
             0.8156862745098039,
             "rgb(245,162,122)"
            ],
            [
             0.8784313725490196,
             "rgb(246,188,153)"
            ],
            [
             0.9411764705882353,
             "rgb(247,212,187)"
            ],
            [
             1,
             "rgb(250,234,220)"
            ]
           ],
           "sequentialminus": [
            [
             0,
             "rgb(2,4,25)"
            ],
            [
             0.06274509803921569,
             "rgb(24,15,41)"
            ],
            [
             0.12549019607843137,
             "rgb(47,23,57)"
            ],
            [
             0.18823529411764706,
             "rgb(71,28,72)"
            ],
            [
             0.25098039215686274,
             "rgb(97,30,82)"
            ],
            [
             0.3137254901960784,
             "rgb(123,30,89)"
            ],
            [
             0.3764705882352941,
             "rgb(150,27,91)"
            ],
            [
             0.4392156862745098,
             "rgb(177,22,88)"
            ],
            [
             0.5019607843137255,
             "rgb(203,26,79)"
            ],
            [
             0.5647058823529412,
             "rgb(223,47,67)"
            ],
            [
             0.6274509803921569,
             "rgb(236,76,61)"
            ],
            [
             0.6901960784313725,
             "rgb(242,107,73)"
            ],
            [
             0.7529411764705882,
             "rgb(244,135,95)"
            ],
            [
             0.8156862745098039,
             "rgb(245,162,122)"
            ],
            [
             0.8784313725490196,
             "rgb(246,188,153)"
            ],
            [
             0.9411764705882353,
             "rgb(247,212,187)"
            ],
            [
             1,
             "rgb(250,234,220)"
            ]
           ]
          },
          "colorway": [
           "rgb(76,114,176)",
           "rgb(221,132,82)",
           "rgb(85,168,104)",
           "rgb(196,78,82)",
           "rgb(129,114,179)",
           "rgb(147,120,96)",
           "rgb(218,139,195)",
           "rgb(140,140,140)",
           "rgb(204,185,116)",
           "rgb(100,181,205)"
          ],
          "font": {
           "color": "rgb(36,36,36)"
          },
          "geo": {
           "bgcolor": "white",
           "lakecolor": "white",
           "landcolor": "rgb(234,234,242)",
           "showlakes": true,
           "showland": true,
           "subunitcolor": "white"
          },
          "hoverlabel": {
           "align": "left"
          },
          "hovermode": "closest",
          "paper_bgcolor": "white",
          "plot_bgcolor": "rgb(234,234,242)",
          "polar": {
           "angularaxis": {
            "gridcolor": "white",
            "linecolor": "white",
            "showgrid": true,
            "ticks": ""
           },
           "bgcolor": "rgb(234,234,242)",
           "radialaxis": {
            "gridcolor": "white",
            "linecolor": "white",
            "showgrid": true,
            "ticks": ""
           }
          },
          "scene": {
           "xaxis": {
            "backgroundcolor": "rgb(234,234,242)",
            "gridcolor": "white",
            "gridwidth": 2,
            "linecolor": "white",
            "showbackground": true,
            "showgrid": true,
            "ticks": "",
            "zerolinecolor": "white"
           },
           "yaxis": {
            "backgroundcolor": "rgb(234,234,242)",
            "gridcolor": "white",
            "gridwidth": 2,
            "linecolor": "white",
            "showbackground": true,
            "showgrid": true,
            "ticks": "",
            "zerolinecolor": "white"
           },
           "zaxis": {
            "backgroundcolor": "rgb(234,234,242)",
            "gridcolor": "white",
            "gridwidth": 2,
            "linecolor": "white",
            "showbackground": true,
            "showgrid": true,
            "ticks": "",
            "zerolinecolor": "white"
           }
          },
          "shapedefaults": {
           "fillcolor": "rgb(67,103,167)",
           "line": {
            "width": 0
           },
           "opacity": 0.5
          },
          "ternary": {
           "aaxis": {
            "gridcolor": "white",
            "linecolor": "white",
            "showgrid": true,
            "ticks": ""
           },
           "baxis": {
            "gridcolor": "white",
            "linecolor": "white",
            "showgrid": true,
            "ticks": ""
           },
           "bgcolor": "rgb(234,234,242)",
           "caxis": {
            "gridcolor": "white",
            "linecolor": "white",
            "showgrid": true,
            "ticks": ""
           }
          },
          "xaxis": {
           "automargin": true,
           "gridcolor": "white",
           "linecolor": "white",
           "showgrid": true,
           "ticks": "",
           "title": {
            "standoff": 15
           },
           "zerolinecolor": "white"
          },
          "yaxis": {
           "automargin": true,
           "gridcolor": "white",
           "linecolor": "white",
           "showgrid": true,
           "ticks": "",
           "title": {
            "standoff": 15
           },
           "zerolinecolor": "white"
          }
         }
        },
        "title": {
         "text": "Rarible<br><i>Value of transactions including bids and sales</i>"
        },
        "width": 600,
        "xaxis": {
         "showgrid": false,
         "title": {
          "text": "<i>contract: 0xcd4EC7b66fbc029C116BA9Ffb3e59351c20B5B06</i>"
         }
        },
        "yaxis": {
         "showgrid": false,
         "title": {
          "text": ""
         },
         "zeroline": false
        }
       }
      }
     },
     "metadata": {
      "transient": {}
     },
     "output_type": "display_data"
    }
   ],
   "source": [
    "fig = go.Figure()\n",
    "\n",
    "value = rarible_df['value']\n",
    "timestamp = rarible_df['timestamp']\n",
    "a_hash = rarible_df['hash']\n",
    "mean = rarible_df['value'].mean()\n",
    "\n",
    "fig.add_trace(go.Scatter(y=value, x=timestamp, name=str(a_hash), mode='markers', text=rarible_df.hash,\n",
    "                marker=dict(size=value.astype(float), color=value, colorscale='Cividis', showscale=True, line=dict(width=.5,\n",
    "                                        color='grey'))))\n",
    "\n",
    "fig.add_shape(type='line', x0=min(timestamp), y0=30, x1=max(timestamp), y1=30,\n",
    "                line=dict(color='Red') ,xref='x', yref='y')\n",
    "\n",
    "fig.update_layout(yaxis_title=\"\", xaxis_title=\"<i>contract: 0xcd4EC7b66fbc029C116BA9Ffb3e59351c20B5B06</i>\", width=600, height=900, yaxis=dict(zeroline=False),\n",
    "                    template='seaborn', legend_title=\"Comparison\", paper_bgcolor='rgba(0,0,0,0)', \n",
    "                    font=dict(family=\"Tahoma\", size=10), plot_bgcolor='rgba(0,0,0,0)',\n",
    "                    title=(\"Rarible<br>\" +\n",
    "                    \"<i>Value of transactions including bids and sales</i>\"))\n",
    "\n",
    "# Add images\n",
    "fig.add_layout_image(dict(source=\"gradient.png\", xref=\"paper\", yref=\"paper\",\n",
    "                        x=-1.5, y=1.2, sizex=6, sizey=6, layer=\"below\"))\n",
    "\n",
    "#fig.add_annotation(x=rarible_df['timestamp'].iloc[2170], y=70.5,\n",
    "#            text=\"\", showarrow=False, arrowhead=1)\n",
    "\n",
    "fig.update_shapes(dict(xref='x', yref='y'))\n",
    "fig.update_xaxes(showgrid=False)\n",
    "fig.update_yaxes(showgrid=False)\n",
    "fig.update_traces(marker_showscale=False)\n",
    "fig.show()"
   ]
  },
  {
   "cell_type": "code",
   "execution_count": null,
   "metadata": {},
   "outputs": [],
   "source": [
    "def hist_for_count(data):\n",
    "    plt.style.use(\"fast\")\n",
    "    plt.figure(figsize=(21,14), facecolor=('#fff9f4')) # Make it 14x7 inch\n",
    "\n",
    "    x = data # normal distribution\n",
    "    n, bins, patches = plt.hist(x, bins=80, facecolor='#2ab0ff', edgecolor='#e0e0e0', linewidth=0.5, alpha=0.7)\n",
    "    n = n.astype('int') # it MUST be integer\n",
    "\n",
    "    # Good old loop. Choose colormap of your taste\n",
    "    for i in range(len(patches)):\n",
    "        patches[i].set_facecolor(plt.cm.viridis(n[i]/max(n)))\n",
    "\n",
    "    # Add title and labels with custom font sizes\n",
    "    plt.title('', fontsize=12)\n",
    "    plt.xlabel('', fontsize=8)\n",
    "    plt.ylabel('', fontsize=8)\n",
    "    plt.grid(b=None)\n",
    "    plt.savefig('foo.png')\n",
    "    plt.show();\n",
    "    return"
   ]
  },
  {
   "cell_type": "code",
   "execution_count": null,
   "metadata": {},
   "outputs": [],
   "source": [
    "hist_for_count(foundation_df['timestamp'])"
   ]
  },
  {
   "cell_type": "code",
   "execution_count": 4,
   "metadata": {},
   "outputs": [
    {
     "name": "stdout",
     "output_type": "stream",
     "text": [
      "140245398.245132780789239631\n",
      "OMGToken\n",
      "OMG\n",
      "26254.40668528280698004\n"
     ]
    }
   ],
   "source": [
    "# OMG Address\n",
    "abi = json.loads('[{\"constant\":true,\"inputs\":[],\"name\":\"mintingFinished\",\"outputs\":[{\"name\":\"\",\"type\":\"bool\"}],\"payable\":false,\"type\":\"function\"},{\"constant\":true,\"inputs\":[],\"name\":\"name\",\"outputs\":[{\"name\":\"\",\"type\":\"string\"}],\"payable\":false,\"type\":\"function\"},{\"constant\":false,\"inputs\":[{\"name\":\"_spender\",\"type\":\"address\"},{\"name\":\"_value\",\"type\":\"uint256\"}],\"name\":\"approve\",\"outputs\":[],\"payable\":false,\"type\":\"function\"},{\"constant\":true,\"inputs\":[],\"name\":\"totalSupply\",\"outputs\":[{\"name\":\"\",\"type\":\"uint256\"}],\"payable\":false,\"type\":\"function\"},{\"constant\":false,\"inputs\":[{\"name\":\"_from\",\"type\":\"address\"},{\"name\":\"_to\",\"type\":\"address\"},{\"name\":\"_value\",\"type\":\"uint256\"}],\"name\":\"transferFrom\",\"outputs\":[],\"payable\":false,\"type\":\"function\"},{\"constant\":true,\"inputs\":[],\"name\":\"decimals\",\"outputs\":[{\"name\":\"\",\"type\":\"uint256\"}],\"payable\":false,\"type\":\"function\"},{\"constant\":false,\"inputs\":[],\"name\":\"unpause\",\"outputs\":[{\"name\":\"\",\"type\":\"bool\"}],\"payable\":false,\"type\":\"function\"},{\"constant\":false,\"inputs\":[{\"name\":\"_to\",\"type\":\"address\"},{\"name\":\"_amount\",\"type\":\"uint256\"}],\"name\":\"mint\",\"outputs\":[{\"name\":\"\",\"type\":\"bool\"}],\"payable\":false,\"type\":\"function\"},{\"constant\":true,\"inputs\":[],\"name\":\"paused\",\"outputs\":[{\"name\":\"\",\"type\":\"bool\"}],\"payable\":false,\"type\":\"function\"},{\"constant\":true,\"inputs\":[{\"name\":\"_owner\",\"type\":\"address\"}],\"name\":\"balanceOf\",\"outputs\":[{\"name\":\"balance\",\"type\":\"uint256\"}],\"payable\":false,\"type\":\"function\"},{\"constant\":false,\"inputs\":[],\"name\":\"finishMinting\",\"outputs\":[{\"name\":\"\",\"type\":\"bool\"}],\"payable\":false,\"type\":\"function\"},{\"constant\":false,\"inputs\":[],\"name\":\"pause\",\"outputs\":[{\"name\":\"\",\"type\":\"bool\"}],\"payable\":false,\"type\":\"function\"},{\"constant\":true,\"inputs\":[],\"name\":\"owner\",\"outputs\":[{\"name\":\"\",\"type\":\"address\"}],\"payable\":false,\"type\":\"function\"},{\"constant\":true,\"inputs\":[],\"name\":\"symbol\",\"outputs\":[{\"name\":\"\",\"type\":\"string\"}],\"payable\":false,\"type\":\"function\"},{\"constant\":false,\"inputs\":[{\"name\":\"_to\",\"type\":\"address\"},{\"name\":\"_value\",\"type\":\"uint256\"}],\"name\":\"transfer\",\"outputs\":[],\"payable\":false,\"type\":\"function\"},{\"constant\":false,\"inputs\":[{\"name\":\"_to\",\"type\":\"address\"},{\"name\":\"_amount\",\"type\":\"uint256\"},{\"name\":\"_releaseTime\",\"type\":\"uint256\"}],\"name\":\"mintTimelocked\",\"outputs\":[{\"name\":\"\",\"type\":\"address\"}],\"payable\":false,\"type\":\"function\"},{\"constant\":true,\"inputs\":[{\"name\":\"_owner\",\"type\":\"address\"},{\"name\":\"_spender\",\"type\":\"address\"}],\"name\":\"allowance\",\"outputs\":[{\"name\":\"remaining\",\"type\":\"uint256\"}],\"payable\":false,\"type\":\"function\"},{\"constant\":false,\"inputs\":[{\"name\":\"newOwner\",\"type\":\"address\"}],\"name\":\"transferOwnership\",\"outputs\":[],\"payable\":false,\"type\":\"function\"},{\"anonymous\":false,\"inputs\":[{\"indexed\":true,\"name\":\"to\",\"type\":\"address\"},{\"indexed\":false,\"name\":\"value\",\"type\":\"uint256\"}],\"name\":\"Mint\",\"type\":\"event\"},{\"anonymous\":false,\"inputs\":[],\"name\":\"MintFinished\",\"type\":\"event\"},{\"anonymous\":false,\"inputs\":[],\"name\":\"Pause\",\"type\":\"event\"},{\"anonymous\":false,\"inputs\":[],\"name\":\"Unpause\",\"type\":\"event\"},{\"anonymous\":false,\"inputs\":[{\"indexed\":true,\"name\":\"owner\",\"type\":\"address\"},{\"indexed\":true,\"name\":\"spender\",\"type\":\"address\"},{\"indexed\":false,\"name\":\"value\",\"type\":\"uint256\"}],\"name\":\"Approval\",\"type\":\"event\"},{\"anonymous\":false,\"inputs\":[{\"indexed\":true,\"name\":\"from\",\"type\":\"address\"},{\"indexed\":true,\"name\":\"to\",\"type\":\"address\"},{\"indexed\":false,\"name\":\"value\",\"type\":\"uint256\"}],\"name\":\"Transfer\",\"type\":\"event\"}]')\n",
    "# OMG ABI\n",
    "address = '0xd26114cd6EE289AccF82350c8d8487fedB8A0C07'\n",
    "\n",
    "contract = w3.eth.contract(address=address, abi=abi)\n",
    "\n",
    "totalSupply = contract.functions.totalSupply().call()\n",
    "print(w3.fromWei(totalSupply, 'ether'))\n",
    "print(contract.functions.name().call())\n",
    "print(contract.functions.symbol().call())\n",
    "balance = contract.functions.balanceOf('0xd26114cd6EE289AccF82350c8d8487fedB8A0C07').call()\n",
    "print(w3.fromWei(balance, 'ether'))"
   ]
  },
  {
   "cell_type": "code",
   "execution_count": null,
   "metadata": {},
   "outputs": [],
   "source": [
    "signed_tx = w3.eth.account.signTransaction(tx, private_key)\n",
    "\n",
    "tx_hash = w3.eth.sendRawTransaction(signed_tx.rawTransaction)\n",
    "\n",
    "print(w3.toHex(tx_hash))"
   ]
  }
 ],
 "metadata": {
  "kernelspec": {
   "display_name": "Python 3.9.1 64-bit",
   "language": "python",
   "name": "python39164bit1403dc9b93394d8f9ff214505f33f4c3"
  },
  "language_info": {
   "codemirror_mode": {
    "name": "ipython",
    "version": 3
   },
   "file_extension": ".py",
   "mimetype": "text/x-python",
   "name": "python",
   "nbconvert_exporter": "python",
   "pygments_lexer": "ipython3",
   "version": "3.9.1"
  },
  "metadata": {
   "interpreter": {
    "hash": "0600588c3b5f4418cbe7b5ebc6825b479f3bc010269d8b60d75058cdd010adfe"
   }
  },
  "orig_nbformat": 2
 },
 "nbformat": 4,
 "nbformat_minor": 2
}