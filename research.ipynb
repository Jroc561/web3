{
 "cells": [
  {
   "cell_type": "code",
   "execution_count": null,
   "metadata": {},
   "outputs": [],
   "source": [
    "import etherscan\n",
    "import pandas as pd\n",
    "import plotly.express as px\n",
    "import plotly.graph_objects as go\n",
    "import matplotlib.pyplot as plt # importing matplotlib\n",
    "import numpy as np # importing numpy\n",
    "import time\n",
    "\n",
    "from dotenv import load_dotenv\n",
    "from datetime import datetime\n",
    "from web3 import Web3\n",
    "from os import getenv\n",
    "from tqdm import tqdm\n",
    "from decimal import Decimal"
   ]
  },
  {
   "cell_type": "code",
   "execution_count": null,
   "metadata": {},
   "outputs": [],
   "source": [
    "load_dotenv()\n",
    "\n",
    "\n",
    "es = etherscan.Client(api_key=getenv('ETHERSCAN'))\n",
    "w3 = Web3(Web3.HTTPProvider(getenv('INFURA')))\n",
    "\n",
    "w3.isConnected()"
   ]
  },
  {
   "cell_type": "code",
   "execution_count": null,
   "metadata": {},
   "outputs": [],
   "source": [
    "# address book\n",
    "carlisle = '0xd791427e372186E90637caF1D6D6AFb054BeeC7A'\n",
    "rarible = '0xcd4EC7b66fbc029C116BA9Ffb3e59351c20B5B06'\n",
    "opensea = '0x7Be8076f4EA4A4AD08075C2508e481d6C946D12b'\n",
    "foundation = '0xcDA72070E455bb31C7690a170224Ce43623d0B6f'\n",
    "superrare = '0x41A322b28D0fF354040e2CbC676F0320d8c8850d'\n",
    "knownorigin = '0x848b0EA643e5a352D78e2c0c12A2dD8c96feC639'"
   ]
  },
  {
   "cell_type": "code",
   "execution_count": null,
   "metadata": {},
   "outputs": [],
   "source": [
    "def get_balance(wallet):\n",
    "    wei = w3.eth.get_balance(wallet)\n",
    "    return w3.fromWei(wei, 'ether')"
   ]
  },
  {
   "cell_type": "code",
   "execution_count": null,
   "metadata": {},
   "outputs": [],
   "source": [
    "get_balance(carlisle)"
   ]
  },
  {
   "cell_type": "code",
   "execution_count": null,
   "metadata": {},
   "outputs": [],
   "source": [
    "def mp_transactions(address):\n",
    "    columns = ['timestamp', 'block_number', 'from', 'to', 'input', 'hash', 'value', 'gas', \n",
    "                'gas_price', 'gas_used', 'nonce', 'confirmations', 'is_error', 'tx_receipt_status', \n",
    "                'transaction_index', 'cumulative_gas_used', 'block_hash']\n",
    "\n",
    "    transactions = []\n",
    "\n",
    "    latest_block = w3.eth.get_block('latest')\n",
    "    end_block = latest_block['number']\n",
    "    start_block = end_block - (6500 * 5)\n",
    "\n",
    "    for l in tqdm(es.get_transactions_by_address(address, start_block=start_block, end_block=end_block, limit=9999)):\n",
    "        time.sleep(.2)\n",
    "        transactions.append(l)\n",
    "\n",
    "    df = pd.DataFrame(transactions, columns=columns)\n",
    "    df['timestamp'] = df['timestamp'].apply(datetime.fromtimestamp)\n",
    "    df = df[df['value'] != 0]\n",
    "    df = df.reset_index(drop=True)\n",
    "    df['value'] = [w3.fromWei(x, 'ether') for x in df['value']]\n",
    "    return df"
   ]
  },
  {
   "cell_type": "code",
   "execution_count": null,
   "metadata": {},
   "outputs": [],
   "source": [
    "rarible_df = mp_transactions(rarible)"
   ]
  },
  {
   "cell_type": "code",
   "execution_count": null,
   "metadata": {},
   "outputs": [],
   "source": [
    "rarible_df['value'].mean()"
   ]
  },
  {
   "cell_type": "code",
   "execution_count": null,
   "metadata": {},
   "outputs": [],
   "source": [
    "rarible_df"
   ]
  },
  {
   "cell_type": "code",
   "execution_count": null,
   "metadata": {},
   "outputs": [],
   "source": [
    "fig = go.Figure()\n",
    "\n",
    "value = rarible_df['value']\n",
    "timestamp = rarible_df['timestamp']\n",
    "a_hash = rarible_df['hash']\n",
    "mean = rarible_df['value'].mean()\n",
    "\n",
    "fig.add_trace(go.Scatter(y=value, x=timestamp, name=str(a_hash), mode='markers', text=rarible_df.index,\n",
    "                marker=dict(size=value.astype(float), color=value, colorscale='Cividis', showscale=True, line=dict(width=.5,\n",
    "                                        color='grey'))))\n",
    "\n",
    "fig.add_shape(type='line', x0=min(timestamp), y0=30, x1=max(timestamp), y1=30,\n",
    "                line=dict(color='Red') ,xref='x', yref='y')\n",
    "\n",
    "fig.update_layout(yaxis_title=\"\", xaxis_title=\"<i>contract: 0xcd4EC7b66fbc029C116BA9Ffb3e59351c20B5B06</i>\", width=600, height=900, yaxis=dict(zeroline=False),\n",
    "                    template='seaborn', legend_title=\"Comparison\", paper_bgcolor='rgba(0,0,0,0)', \n",
    "                    font=dict(family=\"Tahoma\", size=10), plot_bgcolor='rgba(0,0,0,0)',\n",
    "                    title=(\"Rarible<br>\" +\n",
    "                    \"<i>Value of transactions including bids and sales</i>\"))\n",
    "\n",
    "# Add images\n",
    "fig.add_layout_image(dict(source=\"gradient.png\", xref=\"paper\", yref=\"paper\",\n",
    "                        x=-1.5, y=1.2, sizex=6, sizey=6, layer=\"below\"))\n",
    "\n",
    "fig.add_annotation(x=rarible_df['timestamp'].iloc[2170], y=70.5,\n",
    "            text=\"Beeple\", showarrow=False, arrowhead=1)\n",
    "\n",
    "fig.update_shapes(dict(xref='x', yref='y'))\n",
    "fig.update_xaxes(showgrid=False)\n",
    "fig.update_yaxes(showgrid=False)\n",
    "fig.update_traces(marker_showscale=False)\n",
    "fig.show()"
   ]
  },
  {
   "cell_type": "code",
   "execution_count": null,
   "metadata": {},
   "outputs": [],
   "source": [
    "def hist_for_count(data):\n",
    "    plt.style.use(\"fast\")\n",
    "    plt.figure(figsize=(21,14), facecolor=('#fff9f4')) # Make it 14x7 inch\n",
    "\n",
    "    x = data # normal distribution\n",
    "    n, bins, patches = plt.hist(x, bins=80, facecolor='#2ab0ff', edgecolor='#e0e0e0', linewidth=0.5, alpha=0.7)\n",
    "    n = n.astype('int') # it MUST be integer\n",
    "\n",
    "    # Good old loop. Choose colormap of your taste\n",
    "    for i in range(len(patches)):\n",
    "        patches[i].set_facecolor(plt.cm.viridis(n[i]/max(n)))\n",
    "\n",
    "    # Add title and labels with custom font sizes\n",
    "    plt.title('', fontsize=12)\n",
    "    plt.xlabel('', fontsize=8)\n",
    "    plt.ylabel('', fontsize=8)\n",
    "    plt.grid(b=None)\n",
    "    plt.savefig('foo.png')\n",
    "    plt.show();\n",
    "    return"
   ]
  },
  {
   "cell_type": "code",
   "execution_count": null,
   "metadata": {},
   "outputs": [],
   "source": [
    "hist_for_count(foundation_df['timestamp'])"
   ]
  }
 ],
 "metadata": {
  "kernelspec": {
   "display_name": "Python 3.9.1 64-bit",
   "language": "python",
   "name": "python39164bit1403dc9b93394d8f9ff214505f33f4c3"
  },
  "language_info": {
   "codemirror_mode": {
    "name": "ipython",
    "version": 3
   },
   "file_extension": ".py",
   "mimetype": "text/x-python",
   "name": "python",
   "nbconvert_exporter": "python",
   "pygments_lexer": "ipython3",
   "version": "3.9.1"
  },
  "orig_nbformat": 2
 },
 "nbformat": 4,
 "nbformat_minor": 2
}