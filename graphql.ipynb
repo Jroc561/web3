{
 "cells": [
  {
   "cell_type": "code",
   "execution_count": 73,
   "metadata": {},
   "outputs": [],
   "source": [
    "import pandas as pd\n",
    "import graphene\n",
    "import extraction\n",
    "import requests\n",
    "import os\n",
    "import json\n",
    "import requests\n",
    "import base58\n",
    "import binascii\n",
    "from tqdm import tqdm\n",
    "import requests\n",
    "from gql import Client, gql\n",
    "from gql.transport.requests import RequestsHTTPTransport"
   ]
  },
  {
   "cell_type": "code",
   "execution_count": 2,
   "metadata": {},
   "outputs": [],
   "source": [
    "# Trad extract using requests for title, url, image\n",
    "def extract(url):\n",
    "    html = requests.get(url).text\n",
    "    extracted = extraction.Extractor().extract(html, source_url=url)\n",
    "    return extracted"
   ]
  },
  {
   "cell_type": "code",
   "execution_count": 3,
   "metadata": {},
   "outputs": [
    {
     "data": {
      "text/plain": "<Extracted: (title: 'Getting Started with Python and GraphQL - Part 1', 5 more), (url: 'https://www.moesif.com/blog/technical/graphql/Gett'), (image: 'https://blog.moesif.com/images/posts/technical/gra', 8 more), (description: 'Getting started with GraphQL & Python using Django', 5 more)>"
     },
     "execution_count": 3,
     "metadata": {},
     "output_type": "execute_result"
    }
   ],
   "source": [
    "extract('https://www.moesif.com/blog/technical/graphql/Getting-Started-with-Python-GraphQL-Part1/')"
   ]
  },
  {
   "cell_type": "code",
   "execution_count": 9,
   "metadata": {},
   "outputs": [],
   "source": [
    "USER_RESERVES_QUERY = \"\"\"\n",
    "{{\n",
    "  userReserves(where: {{ user: \"{address}\"}}) {{\n",
    "    id\n",
    "    reserve{{\n",
    "      id\n",
    "      symbol\n",
    "    }}\n",
    "    user {{\n",
    "      id\n",
    "    }}\n",
    "  }}\n",
    "}}\"\"\"\n",
    "url = 'https://api.thegraph.com/subgraphs/name/aave/protocol-raw'\n",
    "transport = RequestsHTTPTransport(url=url, retries=5)\n",
    "\n",
    "try:\n",
    "    client = Client(transport=transport, fetch_schema_from_transport=True)\n",
    "except (requests.exceptions.RequestException) as e:\n",
    "    raise ValueError(f'Failed to connect to the graph at {url} due to {str(e)}') from e\n",
    "\n",
    "address = '0xd791427e372186E90637caF1D6D6AFb054BeeC7A'\n",
    "query = client.execute(gql(USER_RESERVES_QUERY.format(address=address.lower())),)"
   ]
  },
  {
   "cell_type": "code",
   "execution_count": 81,
   "metadata": {},
   "outputs": [],
   "source": [
    "def TestGql(url):\n",
    "    transport = RequestsHTTPTransport(url=url, retries=5)\n",
    "\n",
    "    try:\n",
    "        client = Client(transport=transport, fetch_schema_from_transport=True)\n",
    "    except (requests.exceptions.RequestException) as e:\n",
    "        raise ValueError(f'Failed to connect to the graph at {url} due to {str(e)}') from e\n",
    "\n",
    "    query = gql(\n",
    "            \"\"\"\n",
    "            {\n",
    "            punks(first: 5) {\n",
    "                id\n",
    "                owner {\n",
    "                id\n",
    "                }\n",
    "                totalOwners\n",
    "                highestPrice\n",
    "                sales {\n",
    "                id\n",
    "                }\n",
    "            }\n",
    "            accounts(first: 5) {\n",
    "                id\n",
    "                totalSpentBuyingPunks\n",
    "                totalEarnedSellingPunks\n",
    "                totalPunks\n",
    "            }\n",
    "            }\n",
    "            \"\"\"\n",
    "        )\n",
    "\n",
    "    # Execute the query on the transport\n",
    "    result = client.execute(query)\n",
    "    return result"
   ]
  },
  {
   "cell_type": "code",
   "execution_count": 82,
   "metadata": {},
   "outputs": [
    {
     "data": {
      "text/plain": "{'accounts': [{'id': '0x0000000000000000000000000000000000000000',\n   'totalEarnedSellingPunks': '0',\n   'totalPunks': '3833',\n   'totalSpentBuyingPunks': '0'},\n  {'id': '0x0000000000000000000000000000000000000001',\n   'totalEarnedSellingPunks': '0',\n   'totalPunks': '1',\n   'totalSpentBuyingPunks': '0'},\n  {'id': '0x0000000000000000000000000000000000000002',\n   'totalEarnedSellingPunks': '0',\n   'totalPunks': '0',\n   'totalSpentBuyingPunks': '0'},\n  {'id': '0x0000000000000000000000000000000000000003',\n   'totalEarnedSellingPunks': '0',\n   'totalPunks': '0',\n   'totalSpentBuyingPunks': '0'},\n  {'id': '0x0000000000000000000000000000000000000004',\n   'totalEarnedSellingPunks': '0',\n   'totalPunks': '0',\n   'totalSpentBuyingPunks': '0'}],\n 'punks': [{'highestPrice': '0',\n   'id': '0',\n   'owner': {'id': '0x0000000000000000000000000000000000000000'},\n   'sales': [{'id': '0x24893e1197d9da51601987636e2c2bea6d7e56391eb410b44ff5aa8ea80fc068-punkBought'},\n    {'id': '0x54c8c5d3762eb02d657034873eb43f2cd0c7e28c11c94cf64c63755c749a4d86-punkBought'},\n    {'id': '0x5687d030ddf9059d8098f6095e679085dd153ceb6d5b2f45ac36c16876de94e5-punkBought'}],\n   'totalOwners': '6'},\n  {'highestPrice': '31000000000000000000',\n   'id': '1',\n   'owner': {'id': '0xb88f61e6fbda83fbfffabe364112137480398018'},\n   'sales': [{'id': '0xcbc7fbb7b2933d9138da69dba399c9b8d65cffe151916145d5ccb32fe513be79-punkBought'},\n    {'id': '0xf0f63e81ea1858388eb274a2ba516c3cc796d61a85194bccb1911ff00be98084-punkBought'},\n    {'id': '0xf4af5563f3c4c3b26dee3ab027902f113bee5985b28d9ede5b81ab42b46abb30-punkBought'}],\n   'totalOwners': '10'},\n  {'highestPrice': '0',\n   'id': '10',\n   'owner': {'id': '0xc352b534e8b987e036a93539fd6897f53488e56a'},\n   'sales': [],\n   'totalOwners': '2'},\n  {'highestPrice': '0',\n   'id': '100',\n   'owner': {'id': '0xc352b534e8b987e036a93539fd6897f53488e56a'},\n   'sales': [],\n   'totalOwners': '2'},\n  {'highestPrice': '9990000000000000000',\n   'id': '1000',\n   'owner': {'id': '0xdfc05563f947718ca9ebd9e685022a200a5075c8'},\n   'sales': [{'id': '0xbc4269a89bcd5a7075b202c4d60b4c7df06586e51593da03bf1bcb8fd2162ad5-punkBought'},\n    {'id': '0xfa2a58e1a2eb7a0bac766556e5c87f9b4f4d11ed444ddad7bf1f8a1abe1faa31-punkBought'}],\n   'totalOwners': '6'}]}"
     },
     "execution_count": 82,
     "metadata": {},
     "output_type": "execute_result"
    }
   ],
   "source": [
    "TestGql(url='https://api.thegraph.com/subgraphs/name/crazyrabbitltc/punk-tools')"
   ]
  },
  {
   "cell_type": "code",
   "execution_count": 45,
   "metadata": {},
   "outputs": [],
   "source": [
    "def TestGql(url, punk_id):\n",
    "    transport = RequestsHTTPTransport(url=url, retries=5)\n",
    "\n",
    "    try:\n",
    "        client = Client(transport=transport, fetch_schema_from_transport=True)\n",
    "    except (requests.exceptions.RequestException) as e:\n",
    "        raise ValueError(f'Failed to connect to the graph at {url} due to {str(e)}') from e\n",
    "\n",
    "    query = gql(\n",
    "            \"\"\"\n",
    "            {\n",
    "            purchases(where: {punk: \"punk_id\"}) {\n",
    "                id\n",
    "                punk {\n",
    "                id\n",
    "                }\n",
    "                seller\n",
    "                buyer {\n",
    "                id\n",
    "                }\n",
    "                amount\n",
    "                transaction {\n",
    "                id\n",
    "                }\n",
    "            }\n",
    "            }\n",
    "            \"\"\".replace(\"punk_id\", str(punk_id))\n",
    "        )\n",
    "\n",
    "    # Execute the query on the transport\n",
    "    result = client.execute(query)\n",
    "    return result"
   ]
  },
  {
   "cell_type": "code",
   "execution_count": 76,
   "metadata": {},
   "outputs": [
    {
     "data": {
      "text/plain": "{'purchases': []}"
     },
     "execution_count": 76,
     "metadata": {},
     "output_type": "execute_result"
    }
   ],
   "source": [
    "TestGql(url='https://api.thegraph.com/subgraphs/name/itsjerryokolo/cryptopunks', punk_id=(range(3392,10,1)))"
   ]
  },
  {
   "cell_type": "code",
   "execution_count": 74,
   "metadata": {},
   "outputs": [
    {
     "name": "stderr",
     "output_type": "stream",
     "text": [
      "100%|██████████| 10/10 [00:03<00:00,  3.24it/s]\n"
     ]
    }
   ],
   "source": [
    "punk_list = []\n",
    "\n",
    "for i in tqdm(range(0,10,1)): #pages 2 through 450\n",
    "    punks = TestGql(url='https://api.thegraph.com/subgraphs/name/itsjerryokolo/cryptopunks', punk_id=(i))\n",
    "    punk_list.append(punks)\n"
   ]
  },
  {
   "cell_type": "code",
   "execution_count": 75,
   "metadata": {},
   "outputs": [
    {
     "data": {
      "text/plain": "[{'purchases': [{'amount': '0',\n    'buyer': {'id': '0x0000000000000000000000000000000000000000'},\n    'id': '0',\n    'punk': {'id': '0'},\n    'seller': '0xf5099e196469257c0d457e896a648d5f616af034',\n    'transaction': {'id': '0x5687d030ddf9059d8098f6095e679085dd153ceb6d5b2f45ac36c16876de94e5'}}]},\n {'purchases': [{'amount': '0',\n    'buyer': {'id': '0x0000000000000000000000000000000000000000'},\n    'id': '1',\n    'punk': {'id': '1'},\n    'seller': '0xee3766e4f996dc0e0f8c929954eaafef3441de87',\n    'transaction': {'id': '0xf4af5563f3c4c3b26dee3ab027902f113bee5985b28d9ede5b81ab42b46abb30'}}]},\n {'purchases': []},\n {'purchases': []},\n {'purchases': []},\n {'purchases': []},\n {'purchases': []},\n {'purchases': []},\n {'purchases': []},\n {'purchases': []}]"
     },
     "execution_count": 75,
     "metadata": {},
     "output_type": "execute_result"
    }
   ],
   "source": [
    "punk_list"
   ]
  },
  {
   "cell_type": "code",
   "execution_count": 71,
   "metadata": {},
   "outputs": [
    {
     "data": {
      "text/html": "<div>\n<style scoped>\n    .dataframe tbody tr th:only-of-type {\n        vertical-align: middle;\n    }\n\n    .dataframe tbody tr th {\n        vertical-align: top;\n    }\n\n    .dataframe thead th {\n        text-align: right;\n    }\n</style>\n<table border=\"1\" class=\"dataframe\">\n  <thead>\n    <tr style=\"text-align: right;\">\n      <th></th>\n      <th></th>\n      <th>amount</th>\n      <th>buyer</th>\n      <th>id</th>\n      <th>punk</th>\n      <th>seller</th>\n      <th>transaction</th>\n    </tr>\n  </thead>\n  <tbody>\n    <tr>\n      <th>purchases</th>\n      <th>0</th>\n      <td>50020000000000000000</td>\n      <td>{'id': '0x701f373df763308d96d8537822e8f9b2bae4...</td>\n      <td>3392</td>\n      <td>{'id': '3392'}</td>\n      <td>0x82898337f03c1d73133213580b0d9855d3a5573f</td>\n      <td>{'id': '0xf2fc78a37c0a50febd02181cdf386d531c0b...</td>\n    </tr>\n  </tbody>\n</table>\n</div>",
      "text/plain": "                           amount  \\\npurchases 0  50020000000000000000   \n\n                                                         buyer    id  \\\npurchases 0  {'id': '0x701f373df763308d96d8537822e8f9b2bae4...  3392   \n\n                       punk                                      seller  \\\npurchases 0  {'id': '3392'}  0x82898337f03c1d73133213580b0d9855d3a5573f   \n\n                                                   transaction  \npurchases 0  {'id': '0xf2fc78a37c0a50febd02181cdf386d531c0b...  "
     },
     "execution_count": 71,
     "metadata": {},
     "output_type": "execute_result"
    }
   ],
   "source": [
    "pd.concat({k: pd.DataFrame(v) for k, v in foo.items()}, axis=0)"
   ]
  }
 ],
 "metadata": {
  "kernelspec": {
   "display_name": "Python 3.9.1 64-bit",
   "name": "python39164bit1403dc9b93394d8f9ff214505f33f4c3"
  },
  "language_info": {
   "codemirror_mode": {
    "name": "ipython",
    "version": 3
   },
   "file_extension": ".py",
   "mimetype": "text/x-python",
   "name": "python",
   "nbconvert_exporter": "python",
   "pygments_lexer": "ipython3",
   "version": "3.9.1"
  },
  "orig_nbformat": 2
 },
 "nbformat": 4,
 "nbformat_minor": 2
}